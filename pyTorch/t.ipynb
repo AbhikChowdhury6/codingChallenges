{
 "cells": [
  {
   "cell_type": "code",
   "execution_count": 2,
   "metadata": {},
   "outputs": [],
   "source": [
    "import torch\n",
    "from torch import nn\n",
    "from torch.utils.data import DataLoader\n",
    "from torchvision import datasets\n",
    "from torchvision.transforms import ToTensor"
   ]
  },
  {
   "cell_type": "code",
   "execution_count": 4,
   "metadata": {},
   "outputs": [
    {
     "name": "stdout",
     "output_type": "stream",
     "text": [
      "Downloading http://fashion-mnist.s3-website.eu-central-1.amazonaws.com/train-images-idx3-ubyte.gz\n",
      "Downloading http://fashion-mnist.s3-website.eu-central-1.amazonaws.com/train-images-idx3-ubyte.gz to data/FashionMNIST/raw/train-images-idx3-ubyte.gz\n"
     ]
    },
    {
     "name": "stderr",
     "output_type": "stream",
     "text": [
      "100%|██████████| 26421880/26421880 [00:08<00:00, 3166110.33it/s]\n"
     ]
    },
    {
     "name": "stdout",
     "output_type": "stream",
     "text": [
      "Extracting data/FashionMNIST/raw/train-images-idx3-ubyte.gz to data/FashionMNIST/raw\n",
      "\n",
      "Downloading http://fashion-mnist.s3-website.eu-central-1.amazonaws.com/train-labels-idx1-ubyte.gz\n",
      "Downloading http://fashion-mnist.s3-website.eu-central-1.amazonaws.com/train-labels-idx1-ubyte.gz to data/FashionMNIST/raw/train-labels-idx1-ubyte.gz\n"
     ]
    },
    {
     "name": "stderr",
     "output_type": "stream",
     "text": [
      "100%|██████████| 29515/29515 [00:00<00:00, 153236.33it/s]\n"
     ]
    },
    {
     "name": "stdout",
     "output_type": "stream",
     "text": [
      "Extracting data/FashionMNIST/raw/train-labels-idx1-ubyte.gz to data/FashionMNIST/raw\n",
      "\n",
      "Downloading http://fashion-mnist.s3-website.eu-central-1.amazonaws.com/t10k-images-idx3-ubyte.gz\n",
      "Downloading http://fashion-mnist.s3-website.eu-central-1.amazonaws.com/t10k-images-idx3-ubyte.gz to data/FashionMNIST/raw/t10k-images-idx3-ubyte.gz\n"
     ]
    },
    {
     "name": "stderr",
     "output_type": "stream",
     "text": [
      "100%|██████████| 4422102/4422102 [00:03<00:00, 1108630.18it/s]\n"
     ]
    },
    {
     "name": "stdout",
     "output_type": "stream",
     "text": [
      "Extracting data/FashionMNIST/raw/t10k-images-idx3-ubyte.gz to data/FashionMNIST/raw\n",
      "\n",
      "Downloading http://fashion-mnist.s3-website.eu-central-1.amazonaws.com/t10k-labels-idx1-ubyte.gz\n",
      "Downloading http://fashion-mnist.s3-website.eu-central-1.amazonaws.com/t10k-labels-idx1-ubyte.gz to data/FashionMNIST/raw/t10k-labels-idx1-ubyte.gz\n"
     ]
    },
    {
     "name": "stderr",
     "output_type": "stream",
     "text": [
      "100%|██████████| 5148/5148 [00:00<00:00, 17756806.74it/s]"
     ]
    },
    {
     "name": "stdout",
     "output_type": "stream",
     "text": [
      "Extracting data/FashionMNIST/raw/t10k-labels-idx1-ubyte.gz to data/FashionMNIST/raw\n",
      "\n"
     ]
    },
    {
     "name": "stderr",
     "output_type": "stream",
     "text": [
      "\n"
     ]
    }
   ],
   "source": [
    "trainning_data = datasets.FashionMNIST(\n",
    "    root = \"data\",\n",
    "    train = True,\n",
    "    download = True,\n",
    "    transform = ToTensor(),\n",
    ")\n",
    "\n",
    "test_data = datasets.FashionMNIST(\n",
    "    root = \"data\",\n",
    "    train = False,\n",
    "    download = True,\n",
    "    transform = ToTensor(),\n",
    ")"
   ]
  },
  {
   "cell_type": "code",
   "execution_count": 5,
   "metadata": {},
   "outputs": [
    {
     "name": "stdout",
     "output_type": "stream",
     "text": [
      "Shape of X [N, C, H, W]: torch.Size([64, 1, 28, 28])\n",
      "Shape of y: torch.Size([64]) torch.int64\n"
     ]
    }
   ],
   "source": [
    "batch_size = 64\n",
    "\n",
    "train_dataloader = DataLoader(trainning_data, batch_size=batch_size)\n",
    "test_dataloader = DataLoader(test_data, batch_size=batch_size)\n",
    "\n",
    "for X,y in test_dataloader:\n",
    "    print(f\"Shape of X [N, C, H, W]: {X.shape}\")\n",
    "    print(f\"Shape of y: {y.shape} {y.dtype}\")\n",
    "    break"
   ]
  },
  {
   "cell_type": "code",
   "execution_count": 7,
   "metadata": {},
   "outputs": [
    {
     "name": "stdout",
     "output_type": "stream",
     "text": [
      "NeuralNetwork(\n",
      "  (flatten): Flatten(start_dim=1, end_dim=-1)\n",
      "  (linear_relu_stack): Sequential(\n",
      "    (0): Linear(in_features=784, out_features=512, bias=True)\n",
      "    (1): ReLU()\n",
      "    (2): Linear(in_features=512, out_features=512, bias=True)\n",
      "    (3): ReLU()\n",
      "    (4): Linear(in_features=512, out_features=10, bias=True)\n",
      "  )\n",
      ")\n"
     ]
    }
   ],
   "source": [
    "device = (\n",
    "    \"cuda\"\n",
    "    if torch.cuda.is_available()\n",
    "    else \"mps\"\n",
    "    if torch.backends.mps.is_available()\n",
    "    else \"cpu\"\n",
    ")\n",
    "\n",
    "class NeuralNetwork(nn.Module):\n",
    "    def __init__(self):\n",
    "        super().__init__()\n",
    "        self.flatten = nn.Flatten()##???? transforms to a 1d tensor I believe\n",
    "        self.linear_relu_stack = nn.Sequential(##????\n",
    "            nn.Linear(28*28, 512),\n",
    "            nn.ReLU(),\n",
    "            nn.Linear(512,512),\n",
    "            nn.ReLU(),\n",
    "            nn.Linear(512,10)\n",
    "        )\n",
    "\n",
    "    def forward(self, x):\n",
    "        x = self.flatten(x)\n",
    "        logits = self.linear_relu_stack(x)\n",
    "        return logits\n",
    "\n",
    "\n",
    "model = NeuralNetwork().to(device)\n",
    "print(model)\n"
   ]
  },
  {
   "cell_type": "code",
   "execution_count": 8,
   "metadata": {},
   "outputs": [],
   "source": [
    "loss_fn = nn.CrossEntropyLoss()\n",
    "optimizer = torch.optim.SGD(model.parameters(), lr = 1e-3)"
   ]
  },
  {
   "cell_type": "code",
   "execution_count": 9,
   "metadata": {},
   "outputs": [],
   "source": [
    "def train(dataloader, model, loss_fn, optimizer):\n",
    "    size = len(dataloader.dataset)\n",
    "    model.train()#????\n",
    "    for batch, (X,y) in enumerate(dataloader):#for every batch\n",
    "        X, y = X.to(device), y.to(device)#load the batch into the relevant ram\n",
    "\n",
    "        pred = model(X)#make the prediction\n",
    "        loss = loss_fn(pred, y)#calculate the loss\n",
    "\n",
    "        loss.backward()#generate the gradients I believe\n",
    "        optimizer.step()#update the weights\n",
    "        optimizer.zero_grad()#???\n",
    "\n",
    "        if batch % 100 == 0:\n",
    "            loss, current = loss.item(), (batch + 1) * len(X) \n",
    "            print(f\"loss: {loss:>7f} [{current:>5d}]/{size:>5d}\")\n",
    "\n"
   ]
  },
  {
   "cell_type": "code",
   "execution_count": 10,
   "metadata": {},
   "outputs": [],
   "source": [
    "def test(dataloader, model, loss_fn):\n",
    "    size = len(dataloader.dataset)\n",
    "    num_batches = len(dataloader)\n",
    "    model.eval()\n",
    "    test_loss, correct = 0, 0\n",
    "    with torch.no_grad():#??\n",
    "        for X, y in dataloader:\n",
    "            X, y = X.to(device), y.to(device)\n",
    "            pred = model(X)\n",
    "            test_loss += loss_fn(pred, y).item()\n",
    "            correct += (pred.argmax(1) == y).type(torch.float).sum().item()#not fully sure on this\n",
    "    test_loss /= num_batches\n",
    "    correct /= size\n",
    "    print(f\"Test Error: \\n Accuracy: {100*correct:>0.1f}%, Avg loss: {test_loss:>8f} \\n\")\n"
   ]
  },
  {
   "cell_type": "code",
   "execution_count": 12,
   "metadata": {},
   "outputs": [
    {
     "name": "stdout",
     "output_type": "stream",
     "text": [
      "Epoch 1\n",
      "----------------------------\n",
      "loss: 2.308897 [   64]/60000\n",
      "loss: 2.297882 [ 6464]/60000\n",
      "loss: 2.282094 [12864]/60000\n",
      "loss: 2.271558 [19264]/60000\n",
      "loss: 2.239869 [25664]/60000\n",
      "loss: 2.226418 [32064]/60000\n",
      "loss: 2.228252 [38464]/60000\n",
      "loss: 2.202623 [44864]/60000\n",
      "loss: 2.199702 [51264]/60000\n",
      "loss: 2.158509 [57664]/60000\n",
      "Test Error: \n",
      " Accuracy: 38.0%, Avg loss: 2.158586 \n",
      "\n",
      "Epoch 2\n",
      "----------------------------\n",
      "loss: 2.178202 [   64]/60000\n",
      "loss: 2.163158 [ 6464]/60000\n",
      "loss: 2.112112 [12864]/60000\n",
      "loss: 2.123219 [19264]/60000\n",
      "loss: 2.049690 [25664]/60000\n",
      "loss: 2.009838 [32064]/60000\n",
      "loss: 2.029499 [38464]/60000\n",
      "loss: 1.958926 [44864]/60000\n",
      "loss: 1.968474 [51264]/60000\n",
      "loss: 1.887875 [57664]/60000\n",
      "Test Error: \n",
      " Accuracy: 47.2%, Avg loss: 1.891197 \n",
      "\n",
      "Epoch 3\n",
      "----------------------------\n",
      "loss: 1.931563 [   64]/60000\n",
      "loss: 1.893898 [ 6464]/60000\n",
      "loss: 1.789779 [12864]/60000\n",
      "loss: 1.828081 [19264]/60000\n",
      "loss: 1.690923 [25664]/60000\n",
      "loss: 1.665911 [32064]/60000\n",
      "loss: 1.676944 [38464]/60000\n",
      "loss: 1.591167 [44864]/60000\n",
      "loss: 1.615697 [51264]/60000\n",
      "loss: 1.510142 [57664]/60000\n",
      "Test Error: \n",
      " Accuracy: 58.1%, Avg loss: 1.529091 \n",
      "\n",
      "Epoch 4\n",
      "----------------------------\n",
      "loss: 1.598306 [   64]/60000\n",
      "loss: 1.559323 [ 6464]/60000\n",
      "loss: 1.421800 [12864]/60000\n",
      "loss: 1.488008 [19264]/60000\n",
      "loss: 1.351818 [25664]/60000\n",
      "loss: 1.365489 [32064]/60000\n",
      "loss: 1.364753 [38464]/60000\n",
      "loss: 1.304952 [44864]/60000\n",
      "loss: 1.333957 [51264]/60000\n",
      "loss: 1.238492 [57664]/60000\n",
      "Test Error: \n",
      " Accuracy: 62.4%, Avg loss: 1.261959 \n",
      "\n",
      "Epoch 5\n",
      "----------------------------\n",
      "loss: 1.339419 [   64]/60000\n",
      "loss: 1.318328 [ 6464]/60000\n",
      "loss: 1.162887 [12864]/60000\n",
      "loss: 1.262158 [19264]/60000\n",
      "loss: 1.125670 [25664]/60000\n",
      "loss: 1.164221 [32064]/60000\n",
      "loss: 1.170397 [38464]/60000\n",
      "loss: 1.123983 [44864]/60000\n",
      "loss: 1.156853 [51264]/60000\n",
      "loss: 1.075685 [57664]/60000\n",
      "Test Error: \n",
      " Accuracy: 64.2%, Avg loss: 1.094695 \n",
      "\n",
      "Done!\n"
     ]
    }
   ],
   "source": [
    "epochs = 5\n",
    "for t in range(epochs):\n",
    "    print(f\"Epoch {t+1}\\n----------------------------\")\n",
    "    train(train_dataloader, model, loss_fn, optimizer)\n",
    "    test(test_dataloader, model, loss_fn)\n",
    "print(\"Done!\")"
   ]
  },
  {
   "cell_type": "code",
   "execution_count": null,
   "metadata": {},
   "outputs": [],
   "source": []
  }
 ],
 "metadata": {
  "kernelspec": {
   "display_name": "base",
   "language": "python",
   "name": "python3"
  },
  "language_info": {
   "codemirror_mode": {
    "name": "ipython",
    "version": 3
   },
   "file_extension": ".py",
   "mimetype": "text/x-python",
   "name": "python",
   "nbconvert_exporter": "python",
   "pygments_lexer": "ipython3",
   "version": "3.8.3"
  }
 },
 "nbformat": 4,
 "nbformat_minor": 2
}
