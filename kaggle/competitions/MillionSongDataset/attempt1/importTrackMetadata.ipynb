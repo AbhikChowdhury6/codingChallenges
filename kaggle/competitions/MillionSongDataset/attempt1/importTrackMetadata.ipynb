{
 "cells": [
  {
   "cell_type": "code",
   "execution_count": null,
   "metadata": {},
   "outputs": [],
   "source": [
    "import os\n",
    "import sys\n",
    "import time\n",
    "import glob\n",
    "import datetime\n",
    "import sqlite3\n",
    "import numpy as np"
   ]
  },
  {
   "cell_type": "code",
   "execution_count": null,
   "metadata": {},
   "outputs": [],
   "source": [
    "# path to the Million Song Dataset subset (uncompressed)\n",
    "# CHANGE IT TO YOUR LOCAL CONFIGURATION\n",
    "msd_subset_path='/home/chowder/Documents/AiLearning/codingChallenges/kaggle/competitions/MillionSongDataset/MillionSongSubset'\n",
    "msd_subset_data_path=os.path.join(msd_subset_path,'data')\n",
    "msd_subset_addf_path=os.path.join(msd_subset_path,'AdditionalFiles')\n",
    "assert os.path.isdir(msd_subset_path),'wrong path' # sanity check"
   ]
  },
  {
   "cell_type": "code",
   "execution_count": null,
   "metadata": {},
   "outputs": [],
   "source": [
    "# path to the Million Song Dataset code\n",
    "# CHANGE IT TO YOUR LOCAL CONFIGURATION\n",
    "msd_code_path='/home/chowder/Documents/MSongsDB'\n",
    "assert os.path.isdir(msd_code_path),'wrong path' # sanity check\n",
    "# we add some paths to python so we can import MSD code\n",
    "# Ubuntu: you can change the environment variable PYTHONPATH\n",
    "# in your .bashrc file so you do not have to type these lines\n",
    "sys.path.append( os.path.join(msd_code_path,'PythonSrc') )\n",
    "# imports specific to the MSD\n",
    "import hdf5_getters as GETTERS"
   ]
  },
  {
   "cell_type": "code",
   "execution_count": null,
   "metadata": {},
   "outputs": [],
   "source": [
    "# the following function simply gives us a nice string for\n",
    "# a time lag in seconds\n",
    "def strtimedelta(starttime,stoptime):\n",
    "    return str(datetime.timedelta(seconds=stoptime-starttime))"
   ]
  },
  {
   "cell_type": "code",
   "execution_count": null,
   "metadata": {},
   "outputs": [],
   "source": [
    "conn = sqlite3.connect(os.path.join(msd_subset_addf_path,\n",
    "                                    'subset_track_metadata.db'))\n",
    "# we build the SQL query\n",
    "q = \"SELECT * FROM songs LIMIT 1000\"\n",
    "# we query the database\n",
    "t1 = time.time()\n",
    "res = conn.execute(q)\n",
    "first_track_meta = res.fetchall()\n",
    "t2 = time.time()\n",
    "print('all artist names extracted (SQLite) in:',strtimedelta(t1,t2))\n",
    "# we close the connection to the database\n",
    "conn.close()\n",
    "# let's see some of the content\n",
    "for s in first_track_meta:\n",
    "    print(s)"
   ]
  },
  {
   "cell_type": "code",
   "execution_count": null,
   "metadata": {},
   "outputs": [],
   "source": [
    "\"\"\"\n",
    "there is the track metadata DB that has some good stuff\n",
    "but threre is more info in the h5 files\n",
    "    - sample rate\n",
    "    - audio md5\n",
    "    - danceability\n",
    "    - duration\n",
    "    - end of fade in\n",
    "    - energy\n",
    "    - key\n",
    "    - loudness\n",
    "    - one of the 7 modes\n",
    "    - start of fade out\n",
    "    - tempo\n",
    "    - time signature\n",
    "    - segments start?\n",
    "    - segments pitch\n",
    "    - segments timbre\n",
    "    - segments loudness max\n",
    "    - segments loudness max time\n",
    "    - segments loudness start\n",
    "    - sections start\n",
    "    - beats start\n",
    "    - bars start\n",
    "    - tatums start <- lowest regular pulse train\n",
    "    - playme_id\n",
    "    - 7digitalid\n",
    "    - release_7digitalid\n",
    "\n",
    "\"\"\""
   ]
  },
  {
   "cell_type": "code",
   "execution_count": null,
   "metadata": {},
   "outputs": [],
   "source": [
    "\"\"\"\n",
    "songs table in track metadata db\n",
    "    - track id\n",
    "    - title\n",
    "    - songid\n",
    "    - release <-album\n",
    "    - artist id\n",
    "    - artist mbid\n",
    "    - artist name\n",
    "    - duration\n",
    "    - artist familiarity\n",
    "    - artist hotness\n",
    "    - year\n",
    "\"\"\""
   ]
  },
  {
   "cell_type": "code",
   "execution_count": null,
   "metadata": {},
   "outputs": [],
   "source": [
    "\"\"\"\n",
    "artist terms db has 3 tables\n",
    "    - artists table <- one col all unique artist\n",
    "    - terms table <- all unique terms (like acoustic, 00's country, etc.)\n",
    "    - artists_terms <- artist term pairs\n",
    "\"\"\""
   ]
  },
  {
   "cell_type": "code",
   "execution_count": null,
   "metadata": {},
   "outputs": [],
   "source": [
    "\"\"\"\n",
    "artist simalarity db has two tables\n",
    "    - artists table\n",
    "    - similarity table\n",
    "        - target column, similar column\n",
    "\n",
    "\"\"\""
   ]
  },
  {
   "cell_type": "code",
   "execution_count": null,
   "metadata": {},
   "outputs": [],
   "source": [
    "\"\"\"\n",
    "artist location.txt\n",
    "tracksperyear.txt <- release years\n",
    "\"\"\""
   ]
  },
  {
   "cell_type": "code",
   "execution_count": null,
   "metadata": {},
   "outputs": [],
   "source": [
    "\"\"\"\n",
    "mxm dataset train.txt\n",
    "bow of the top 5000 most common words for a bunch of songs\n",
    "words list\n",
    "line consisting of mxmsongid, <wordindex:count>, ...\n",
    "\"\"\"\n",
    "\"\"\"\n",
    "mxm 779k mathces\n",
    "MSD track id\n",
    "artist name, song title\n",
    "MXM tid\n",
    "\"\"\""
   ]
  }
 ],
 "metadata": {
  "language_info": {
   "name": "python"
  }
 },
 "nbformat": 4,
 "nbformat_minor": 2
}
