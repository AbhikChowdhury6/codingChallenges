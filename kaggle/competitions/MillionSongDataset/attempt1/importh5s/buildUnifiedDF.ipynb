{
 "cells": [
  {
   "cell_type": "code",
   "execution_count": null,
   "metadata": {},
   "outputs": [],
   "source": [
    "# Structure\n",
    "# tags table\n",
    "\n",
    "# songs and metadata table\n",
    "# columns start:\n",
    "    # song id, artist id, artist name, tags, bow, Release Year, genre\n",
    "# columns to add:\n",
    "    # tags_skipgram, bow_skipgram, song_skipgram\n",
    "\n",
    "\n",
    "# users listening table\n",
    "# columns:\n",
    "    # user id, list of song id's and listens tuple"
   ]
  },
  {
   "cell_type": "code",
   "execution_count": 1,
   "metadata": {},
   "outputs": [],
   "source": [
    "import os\n",
    "import sys\n",
    "import time\n",
    "import glob\n",
    "import datetime\n",
    "import sqlite3\n",
    "import numpy as np"
   ]
  },
  {
   "cell_type": "code",
   "execution_count": 2,
   "metadata": {},
   "outputs": [],
   "source": [
    "msd_subset_path='/home/chowder/Documents/AiLearning/codingChallenges/kaggle/competitions/MillionSongDataset/MillionSongSubset'\n",
    "msd_subset_data_path=os.path.join(msd_subset_path,'data')"
   ]
  },
  {
   "cell_type": "code",
   "execution_count": 3,
   "metadata": {},
   "outputs": [],
   "source": [
    "# path to the Million Song Dataset code\n",
    "# CHANGE IT TO YOUR LOCAL CONFIGURATION\n",
    "msd_code_path='/home/chowder/Documents/MSongsDB'\n",
    "assert os.path.isdir(msd_code_path),'wrong path' # sanity check\n",
    "# we add some paths to python so we can import MSD code\n",
    "# Ubuntu: you can change the environment variable PYTHONPATH\n",
    "# in your .bashrc file so you do not have to type these lines\n",
    "sys.path.append( os.path.join(msd_code_path,'PythonSrc') )\n",
    "# imports specific to the MSD\n",
    "import hdf5_getters as GETTERS"
   ]
  },
  {
   "cell_type": "code",
   "execution_count": 4,
   "metadata": {},
   "outputs": [],
   "source": [
    "# we define this very useful function to iterate the files\n",
    "def apply_to_all_files(basedir,func=lambda x: x,ext='.h5'):\n",
    "    \"\"\"\n",
    "    From a base directory, go through all subdirectories,\n",
    "    find all files with the given extension, apply the\n",
    "    given function 'func' to all of them.\n",
    "    If no 'func' is passed, we do nothing except counting.\n",
    "    INPUT\n",
    "       basedir  - base directory of the dataset\n",
    "       func     - function to apply to all filenames\n",
    "       ext      - extension, .h5 by default\n",
    "    RETURN\n",
    "       number of files\n",
    "    \"\"\"\n",
    "    cnt = 0\n",
    "    # iterate over all files in all subdirectories\n",
    "    for root, dirs, files in os.walk(basedir):\n",
    "        files = glob.glob(os.path.join(root,'*'+ext))\n",
    "        # count files\n",
    "        cnt += len(files)\n",
    "        # apply function to all files\n",
    "        for f in files :\n",
    "            func(f)       \n",
    "    return cnt"
   ]
  },
  {
   "cell_type": "code",
   "execution_count": 7,
   "metadata": {},
   "outputs": [],
   "source": [
    "def strtimedelta(starttime,stoptime):\n",
    "    return str(datetime.timedelta(seconds=stoptime-starttime))"
   ]
  },
  {
   "cell_type": "code",
   "execution_count": null,
   "metadata": {},
   "outputs": [],
   "source": [
    "def get_h5_col(path, getterName):\n",
    "    colVals = []\n",
    "    getterFunc = getattr(GETTERS, \"get_\" + getterName)\n",
    "    def getVals(filename):\n",
    "        h5 = GETTERS.open_h5_file_read(filename)\n",
    "        fileValues = getterFunc(h5)\n",
    "        all_artist_names.add( artist_name )\n",
    "        h5.close()\n",
    "\n",
    "\n",
    "    return colVals\n",
    "\n",
    "\n"
   ]
  },
  {
   "cell_type": "code",
   "execution_count": 6,
   "metadata": {},
   "outputs": [
    {
     "name": "stdout",
     "output_type": "stream",
     "text": [
      "['open_h5_file_read', 'get_num_songs', 'get_artist_familiarity', 'get_artist_hotttnesss', 'get_artist_id', 'get_artist_mbid', 'get_artist_playmeid', 'get_artist_7digitalid', 'get_artist_latitude', 'get_artist_longitude', 'get_artist_location', 'get_artist_name', 'get_release', 'get_release_7digitalid', 'get_song_id', 'get_song_hotttnesss', 'get_title', 'get_track_7digitalid', 'get_similar_artists', 'get_artist_terms', 'get_artist_terms_freq', 'get_artist_terms_weight', 'get_analysis_sample_rate', 'get_audio_md5', 'get_danceability', 'get_duration', 'get_end_of_fade_in', 'get_energy', 'get_key', 'get_key_confidence', 'get_loudness', 'get_mode', 'get_mode_confidence', 'get_start_of_fade_out', 'get_tempo', 'get_time_signature', 'get_time_signature_confidence', 'get_track_id', 'get_segments_start', 'get_segments_confidence', 'get_segments_pitches', 'get_segments_timbre', 'get_segments_loudness_max', 'get_segments_loudness_max_time', 'get_segments_loudness_start', 'get_sections_start', 'get_sections_confidence', 'get_beats_start', 'get_beats_confidence', 'get_bars_start', 'get_bars_confidence', 'get_tatums_start', 'get_tatums_confidence', 'get_artist_mbtags', 'get_artist_mbtags_count', 'get_year']\n"
     ]
    }
   ],
   "source": [
    "methods_list = [method for method in vars(GETTERS) if callable(\n",
    "    getattr(GETTERS, method)) and not method.startswith(\"__\")]\n",
    "\n",
    "\n",
    "print(methods_list)"
   ]
  },
  {
   "cell_type": "code",
   "execution_count": 8,
   "metadata": {},
   "outputs": [],
   "source": [
    "artistFamiliaritys = []\n",
    "def func_to_get_artist_familiarity(filename):\n",
    "    \"\"\"\n",
    "    This function does 3 simple things:\n",
    "    - open the song file\n",
    "    - get artist ID and put it\n",
    "    - close the file\n",
    "    \"\"\"\n",
    "    h5 = GETTERS.open_h5_file_read(filename)\n",
    "    artist_familiarity = GETTERS.get_artist_familiarity(h5)\n",
    "    artistFamiliaritys.append( artist_familiarity )\n",
    "    h5.close()"
   ]
  },
  {
   "cell_type": "code",
   "execution_count": 9,
   "metadata": {},
   "outputs": [
    {
     "name": "stdout",
     "output_type": "stream",
     "text": [
      "all artist familiarities extracted in: 0:00:37.665586\n"
     ]
    }
   ],
   "source": [
    "t1 = time.time()\n",
    "apply_to_all_files(msd_subset_data_path,func=func_to_get_artist_familiarity)\n",
    "t2 = time.time()\n",
    "print('all artist familiarities extracted in:',strtimedelta(t1,t2))"
   ]
  },
  {
   "cell_type": "code",
   "execution_count": 10,
   "metadata": {},
   "outputs": [
    {
     "data": {
      "text/plain": [
       "10000"
      ]
     },
     "execution_count": 10,
     "metadata": {},
     "output_type": "execute_result"
    }
   ],
   "source": [
    "len(artistFamiliaritys)"
   ]
  },
  {
   "cell_type": "code",
   "execution_count": 12,
   "metadata": {},
   "outputs": [
    {
     "data": {
      "text/plain": [
       "[0.41008203986183206,\n",
       " 0.8424233180669045,\n",
       " 0.9184517888889826,\n",
       " 0.5548518975261917,\n",
       " 0.4939261446863902,\n",
       " 0.3091239772490779,\n",
       " 0.3949625000942707,\n",
       " 0.6933279789975069,\n",
       " 0.4117890700534452,\n",
       " 0.4957385828765451]"
      ]
     },
     "execution_count": 12,
     "metadata": {},
     "output_type": "execute_result"
    }
   ],
   "source": [
    "artistFamiliaritys[0:10]"
   ]
  },
  {
   "cell_type": "code",
   "execution_count": null,
   "metadata": {},
   "outputs": [],
   "source": [
    "# i want to make a dictionary with keys as each get function and values being the "
   ]
  },
  {
   "cell_type": "code",
   "execution_count": null,
   "metadata": {},
   "outputs": [],
   "source": [
    "# h5.root.\n",
    "    # metadata\n",
    "        # songs table with rows for hotness, etc.\n",
    "        # similar_artists\n",
    "        # artist_terms\n",
    "        # artist terms freq\n",
    "        # artist terms weight\n",
    "    # analysis\n",
    "        # songs \n",
    "        # bunch of segments tables\n",
    "        # couple of sections tables\n",
    "        # beats\n",
    "        # bars\n",
    "        # tatums\n",
    "    # musicbrainz\n",
    "        # tags\n",
    "        # tags count\n",
    "        # songs.cols.year\n",
    "\n",
    "\n"
   ]
  },
  {
   "cell_type": "code",
   "execution_count": null,
   "metadata": {},
   "outputs": [],
   "source": []
  },
  {
   "cell_type": "code",
   "execution_count": null,
   "metadata": {},
   "outputs": [],
   "source": [
    "dfCols = [\n",
    "    \"\",\n",
    "    \"\",\n",
    "    \"\",\n",
    "    \"\",\n",
    "    \"\",\n",
    "    \"\",\n",
    "    \"\",\n",
    "    \"\",\n",
    "    \"\",\n",
    "    \"\",\n",
    "    \"\",\n",
    "    \"\",\n",
    "    \"\",\n",
    "    \"\",\n",
    "]\n",
    "# get all h5\n",
    "\n",
    "# pass in a df\n",
    "# make columns for the DF\n",
    "# add rows from each file into the df\n",
    "# add checkpointing if i need to later\n",
    "\n",
    "\n",
    "#save the df"
   ]
  },
  {
   "cell_type": "code",
   "execution_count": null,
   "metadata": {},
   "outputs": [],
   "source": [
    "import pandas as pd\n",
    "#make load code\n",
    "dfPath = \"/home/chowder/Documents/AiLearning/codingChallenges/kaggle\" + \\\n",
    "    \"/competitions/MillionSongDataset\" + \\\n",
    "    \"/otherData/songsDF.csv\"\n",
    "\n",
    "songsDF = pd.read_csv(dfPath, index_col=0)"
   ]
  },
  {
   "cell_type": "markdown",
   "metadata": {},
   "source": []
  },
  {
   "cell_type": "code",
   "execution_count": null,
   "metadata": {},
   "outputs": [],
   "source": []
  },
  {
   "cell_type": "code",
   "execution_count": null,
   "metadata": {},
   "outputs": [],
   "source": [
    "# make add code\n",
    "# add all song title, song id, track id, artist name, release; <- unique-tracks.txt\n",
    "\n",
    "# add artist id , artist mbid <-full outer join unique_artists.txt on artist_name\n",
    "\n",
    "\n",
    "# add song relese date <- tracks-per-year.txt\n",
    "\n",
    "# add artist location <-artsits-location.txt\n",
    "\n",
    "# add song bow\n",
    "\n",
    "\n",
    "#add song\n",
    "\n",
    "\n"
   ]
  },
  {
   "cell_type": "code",
   "execution_count": null,
   "metadata": {},
   "outputs": [],
   "source": []
  },
  {
   "cell_type": "code",
   "execution_count": null,
   "metadata": {},
   "outputs": [],
   "source": []
  },
  {
   "cell_type": "code",
   "execution_count": null,
   "metadata": {},
   "outputs": [],
   "source": [
    "# make save to csv code"
   ]
  }
 ],
 "metadata": {
  "kernelspec": {
   "display_name": "base",
   "language": "python",
   "name": "python3"
  },
  "language_info": {
   "codemirror_mode": {
    "name": "ipython",
    "version": 3
   },
   "file_extension": ".py",
   "mimetype": "text/x-python",
   "name": "python",
   "nbconvert_exporter": "python",
   "pygments_lexer": "ipython3",
   "version": "3.8.3"
  }
 },
 "nbformat": 4,
 "nbformat_minor": 2
}
