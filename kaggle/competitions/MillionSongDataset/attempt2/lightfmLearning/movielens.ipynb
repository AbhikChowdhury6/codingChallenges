{
 "cells": [
  {
   "cell_type": "code",
   "execution_count": 1,
   "metadata": {},
   "outputs": [],
   "source": [
    "import numpy as np\n",
    "\n",
    "from lightfm.datasets import fetch_movielens\n",
    "\n",
    "movielens = fetch_movielens()"
   ]
  },
  {
   "cell_type": "code",
   "execution_count": 2,
   "metadata": {},
   "outputs": [
    {
     "name": "stdout",
     "output_type": "stream",
     "text": [
      "train <class 'scipy.sparse.coo.coo_matrix'> (943, 1682)\n",
      "test <class 'scipy.sparse.coo.coo_matrix'> (943, 1682)\n",
      "item_features <class 'scipy.sparse.csr.csr_matrix'> (1682, 1682)\n",
      "item_feature_labels <class 'numpy.ndarray'> (1682,)\n",
      "item_labels <class 'numpy.ndarray'> (1682,)\n"
     ]
    }
   ],
   "source": [
    "for key, value in movielens.items():\n",
    "    print(key, type(value), value.shape)"
   ]
  },
  {
   "cell_type": "code",
   "execution_count": 6,
   "metadata": {},
   "outputs": [],
   "source": [
    "train = movielens['train']\n",
    "test = movielens['test']"
   ]
  },
  {
   "cell_type": "code",
   "execution_count": 16,
   "metadata": {},
   "outputs": [
    {
     "data": {
      "text/plain": [
       "array(['T', 'G', 'F', 'G', 'C', 'S', 'T', 'B', 'D', 'R', 'S', 'U', 'M',\n",
       "       'P', 'M', 'F', 'F', 'W', 'A', 'A', 'M', 'B', 'T', 'R', 'B', 'B',\n",
       "       'B', 'A', 'B', 'B', 'C', 'C', 'D', 'D', 'F', 'M', 'N', 'N', 'S',\n",
       "       'T', 'B', 'C', 'D', 'D', 'E', 'E', 'E', 'H', 'I', 'S', 'L', 'M',\n",
       "       'N', 'O', 'P', 'P', 'P', 'Q', 'T', 'T', 'T', 'S', 'S', 'S', 'W',\n",
       "       'W', 'A', 'C', 'F', 'F', 'L', 'M', 'M', 'F', 'B', 'C', 'F', 'F',\n",
       "       'F', 'H', 'H', 'J', 'M', 'R', 'R', 'R', 'S', 'S', 'B', 'S', 'N',\n",
       "       'T', 'W', 'H', 'A', 'T', 'D', 'S', 'S', 'F', 'H', 'A', 'A', 'T',\n",
       "       'S', 'D', 'M', 'K', 'M', 'O', 'T', 'F', 'H', 'W', 'H', 'C', 'R',\n",
       "       'T', 'M', 'S', 'I', 'C', 'F', 'L', 'P', 'S', 'G', 'S', 'B', 'K',\n",
       "       'B', 'W', 'G', 'C', '2', 'M', 'B', 'D', 'L', 'H', '2', 'B', 'S',\n",
       "       'D', 'L', 'U', 'L', 'G', 'J', 'S', 'W', 'S', 'F', 'M', 'D', 'R',\n",
       "       'P', 'W', 'B', 'G', 'T', 'O', 'R', 'A', 'J', 'M', 'P', 'M', 'W',\n",
       "       'C', 'D', 'E', 'P', 'R', 'B', 'A', 'G', '1', 'C', 'A', 'R', 'G',\n",
       "       'A', 'A', 'P', 'B', 'G', 'F', 'G', 'H', 'A', 'R', 'R', 'S', 'T',\n",
       "       'D', 'G', 'N', 'B', 'S'], dtype='<U1')"
      ]
     },
     "execution_count": 16,
     "metadata": {},
     "output_type": "execute_result"
    }
   ],
   "source": [
    "movielens[\"item_feature_labels\"][0:200]"
   ]
  },
  {
   "cell_type": "code",
   "execution_count": 15,
   "metadata": {},
   "outputs": [
    {
     "name": "stdout",
     "output_type": "stream",
     "text": [
      "['T' 'G' 'F' 'G' 'C' 'S' 'T' 'B' 'D' 'R' 'S' 'U' 'M' 'P' 'M' 'F' 'F' 'W'\n",
      " 'A' 'A' 'M' 'B' 'T' 'R' 'B' 'B' 'B' 'A' 'B' 'B' 'C' 'C' 'D' 'D' 'F' 'M'\n",
      " 'N' 'N' 'S' 'T' 'B' 'C' 'D' 'D' 'E' 'E' 'E' 'H' 'I' 'S' 'L' 'M' 'N' 'O'\n",
      " 'P' 'P' 'P' 'Q' 'T' 'T' 'T' 'S' 'S' 'S' 'W' 'W' 'A' 'C' 'F' 'F' 'L' 'M'\n",
      " 'M' 'F' 'B' 'C' 'F' 'F' 'F' 'H' 'H' 'J' 'M' 'R' 'R' 'R' 'S' 'S' 'B' 'S'\n",
      " 'N' 'T' 'W' 'H' 'A' 'T' 'D' 'S' 'S' 'F' 'H' 'A' 'A' 'T' 'S' 'D' 'M' 'K'\n",
      " 'M' 'O' 'T' 'F' 'H' 'W' 'H' 'C' 'R' 'T' 'M' 'S' 'I' 'C' 'F' 'L' 'P' 'S'\n",
      " 'G' 'S' 'B' 'K' 'B' 'W' 'G' 'C' '2' 'M' 'B' 'D' 'L' 'H' '2' 'B' 'S' 'D'\n",
      " 'L' 'U' 'L' 'G' 'J' 'S' 'W' 'S' 'F' 'M' 'D' 'R' 'P' 'W' 'B' 'G' 'T' 'O'\n",
      " 'R' 'A' 'J' 'M' 'P' 'M' 'W' 'C' 'D' 'E' 'P' 'R' 'B' 'A' 'G' '1' 'C' 'A'\n",
      " 'R' 'G' 'A' 'A' 'P' 'B' 'G' 'F' 'G' 'H' 'A' 'R' 'R' 'S' 'T' 'D' 'G' 'N'\n",
      " 'B' 'S']\n"
     ]
    }
   ],
   "source": [
    "print(movielens[\"item_labels\"][0:200])"
   ]
  },
  {
   "cell_type": "code",
   "execution_count": 19,
   "metadata": {},
   "outputs": [
    {
     "name": "stdout",
     "output_type": "stream",
     "text": [
      "  (0, 0)\t1.0\n",
      "  (1, 1)\t1.0\n",
      "  (2, 2)\t1.0\n",
      "  (3, 3)\t1.0\n",
      "  (4, 4)\t1.0\n",
      "  (5, 5)\t1.0\n",
      "  (6, 6)\t1.0\n",
      "  (7, 7)\t1.0\n",
      "  (8, 8)\t1.0\n",
      "  (9, 9)\t1.0\n",
      "  (10, 10)\t1.0\n",
      "  (11, 11)\t1.0\n",
      "  (12, 12)\t1.0\n",
      "  (13, 13)\t1.0\n",
      "  (14, 14)\t1.0\n",
      "  (15, 15)\t1.0\n",
      "  (16, 16)\t1.0\n",
      "  (17, 17)\t1.0\n",
      "  (18, 18)\t1.0\n",
      "  (19, 19)\t1.0\n",
      "  (20, 20)\t1.0\n",
      "  (21, 21)\t1.0\n",
      "  (22, 22)\t1.0\n",
      "  (23, 23)\t1.0\n",
      "  (24, 24)\t1.0\n",
      "  :\t:\n",
      "  (1657, 1657)\t1.0\n",
      "  (1658, 1658)\t1.0\n",
      "  (1659, 1659)\t1.0\n",
      "  (1660, 1660)\t1.0\n",
      "  (1661, 1661)\t1.0\n",
      "  (1662, 1662)\t1.0\n",
      "  (1663, 1663)\t1.0\n",
      "  (1664, 1664)\t1.0\n",
      "  (1665, 1665)\t1.0\n",
      "  (1666, 1666)\t1.0\n",
      "  (1667, 1667)\t1.0\n",
      "  (1668, 1668)\t1.0\n",
      "  (1669, 1669)\t1.0\n",
      "  (1670, 1670)\t1.0\n",
      "  (1671, 1671)\t1.0\n",
      "  (1672, 1672)\t1.0\n",
      "  (1673, 1673)\t1.0\n",
      "  (1674, 1674)\t1.0\n",
      "  (1675, 1675)\t1.0\n",
      "  (1676, 1676)\t1.0\n",
      "  (1677, 1677)\t1.0\n",
      "  (1678, 1678)\t1.0\n",
      "  (1679, 1679)\t1.0\n",
      "  (1680, 1680)\t1.0\n",
      "  (1681, 1681)\t1.0\n"
     ]
    }
   ],
   "source": [
    "print(movielens[\"item_features\"])"
   ]
  },
  {
   "cell_type": "code",
   "execution_count": 7,
   "metadata": {},
   "outputs": [
    {
     "name": "stdout",
     "output_type": "stream",
     "text": [
      "  (0, 19)\t4\n",
      "  (0, 32)\t4\n",
      "  (0, 60)\t4\n",
      "  (0, 116)\t3\n",
      "  (0, 154)\t2\n",
      "  (0, 159)\t4\n",
      "  (0, 170)\t5\n",
      "  (0, 188)\t3\n",
      "  (0, 201)\t5\n",
      "  (0, 264)\t4\n",
      "  (1, 12)\t4\n",
      "  (1, 49)\t5\n",
      "  (1, 250)\t5\n",
      "  (1, 279)\t3\n",
      "  (1, 280)\t3\n",
      "  (1, 289)\t3\n",
      "  (1, 291)\t4\n",
      "  (1, 296)\t4\n",
      "  (1, 311)\t3\n",
      "  (1, 313)\t1\n",
      "  (2, 244)\t1\n",
      "  (2, 293)\t2\n",
      "  (2, 322)\t2\n",
      "  (2, 327)\t5\n",
      "  (2, 330)\t4\n",
      "  :\t:\n",
      "  (940, 180)\t5\n",
      "  (940, 256)\t4\n",
      "  (940, 257)\t4\n",
      "  (940, 474)\t4\n",
      "  (940, 992)\t4\n",
      "  (941, 116)\t4\n",
      "  (941, 199)\t4\n",
      "  (941, 260)\t4\n",
      "  (941, 322)\t3\n",
      "  (941, 422)\t5\n",
      "  (941, 426)\t5\n",
      "  (941, 486)\t4\n",
      "  (941, 583)\t4\n",
      "  (941, 603)\t4\n",
      "  (941, 614)\t3\n",
      "  (942, 10)\t4\n",
      "  (942, 57)\t4\n",
      "  (942, 110)\t4\n",
      "  (942, 185)\t5\n",
      "  (942, 214)\t5\n",
      "  (942, 231)\t4\n",
      "  (942, 355)\t4\n",
      "  (942, 569)\t1\n",
      "  (942, 807)\t4\n",
      "  (942, 1066)\t2\n"
     ]
    }
   ],
   "source": [
    "# first row is the user number, column is the item number, the value is the matrix\n",
    "print(test)"
   ]
  },
  {
   "cell_type": "code",
   "execution_count": 18,
   "metadata": {},
   "outputs": [
    {
     "name": "stdout",
     "output_type": "stream",
     "text": [
      "  (0, 0)\t5.0\n",
      "  (0, 1)\t3.0\n",
      "  (0, 2)\t4.0\n",
      "  (0, 3)\t3.0\n",
      "  (0, 4)\t3.0\n",
      "  (0, 5)\t5.0\n",
      "  (0, 6)\t4.0\n",
      "  (0, 7)\t1.0\n",
      "  (0, 8)\t5.0\n",
      "  (0, 9)\t3.0\n",
      "  (0, 10)\t2.0\n",
      "  (0, 11)\t5.0\n",
      "  (0, 12)\t5.0\n",
      "  (0, 13)\t5.0\n",
      "  (0, 14)\t5.0\n",
      "  (0, 15)\t5.0\n",
      "  (0, 16)\t3.0\n",
      "  (0, 17)\t4.0\n",
      "  (0, 18)\t5.0\n",
      "  (0, 20)\t1.0\n",
      "  (0, 21)\t4.0\n",
      "  (0, 22)\t4.0\n",
      "  (0, 23)\t3.0\n",
      "  (0, 24)\t4.0\n",
      "  (0, 25)\t3.0\n",
      "  :\t:\n",
      "  (942, 723)\t1.0\n",
      "  (942, 731)\t4.0\n",
      "  (942, 738)\t4.0\n",
      "  (942, 755)\t2.0\n",
      "  (942, 762)\t4.0\n",
      "  (942, 764)\t3.0\n",
      "  (942, 784)\t2.0\n",
      "  (942, 793)\t3.0\n",
      "  (942, 795)\t3.0\n",
      "  (942, 815)\t4.0\n",
      "  (942, 823)\t4.0\n",
      "  (942, 824)\t3.0\n",
      "  (942, 830)\t2.0\n",
      "  (942, 839)\t4.0\n",
      "  (942, 927)\t5.0\n",
      "  (942, 940)\t1.0\n",
      "  (942, 942)\t5.0\n",
      "  (942, 1010)\t2.0\n",
      "  (942, 1027)\t2.0\n",
      "  (942, 1043)\t3.0\n",
      "  (942, 1046)\t2.0\n",
      "  (942, 1073)\t4.0\n",
      "  (942, 1187)\t3.0\n",
      "  (942, 1227)\t3.0\n",
      "  (942, 1329)\t3.0\n"
     ]
    }
   ],
   "source": [
    "print(train)"
   ]
  },
  {
   "cell_type": "code",
   "execution_count": 4,
   "metadata": {},
   "outputs": [
    {
     "name": "stdout",
     "output_type": "stream",
     "text": [
      "Precision: train 0.59, test 0.10.\n",
      "AUC: train 0.90, test 0.86.\n"
     ]
    }
   ],
   "source": [
    "from lightfm import LightFM\n",
    "from lightfm.evaluation import precision_at_k\n",
    "from lightfm.evaluation import auc_score\n",
    "\n",
    "model = LightFM(learning_rate=0.05, loss='bpr')\n",
    "model.fit(train, epochs=10)\n",
    "\n",
    "train_precision = precision_at_k(model, train, k=10).mean()\n",
    "test_precision = precision_at_k(model, test, k=10).mean()\n",
    "\n",
    "train_auc = auc_score(model, train).mean()\n",
    "test_auc = auc_score(model, test).mean()\n",
    "\n",
    "print('Precision: train %.2f, test %.2f.' % (train_precision, test_precision))\n",
    "print('AUC: train %.2f, test %.2f.' % (train_auc, test_auc))"
   ]
  },
  {
   "cell_type": "code",
   "execution_count": 5,
   "metadata": {},
   "outputs": [
    {
     "name": "stdout",
     "output_type": "stream",
     "text": [
      "Precision: train 0.60, test 0.11.\n",
      "AUC: train 0.93, test 0.90.\n"
     ]
    }
   ],
   "source": [
    "model = LightFM(learning_rate=0.05, loss='warp')\n",
    "\n",
    "model.fit_partial(train, epochs=10)\n",
    "\n",
    "train_precision = precision_at_k(model, train, k=10).mean()\n",
    "test_precision = precision_at_k(model, test, k=10).mean()\n",
    "\n",
    "train_auc = auc_score(model, train).mean()\n",
    "test_auc = auc_score(model, test).mean()\n",
    "\n",
    "print('Precision: train %.2f, test %.2f.' % (train_precision, test_precision))\n",
    "print('AUC: train %.2f, test %.2f.' % (train_auc, test_auc))"
   ]
  }
 ],
 "metadata": {
  "kernelspec": {
   "display_name": "base",
   "language": "python",
   "name": "python3"
  },
  "language_info": {
   "codemirror_mode": {
    "name": "ipython",
    "version": 3
   },
   "file_extension": ".py",
   "mimetype": "text/x-python",
   "name": "python",
   "nbconvert_exporter": "python",
   "pygments_lexer": "ipython3",
   "version": "3.8.3"
  }
 },
 "nbformat": 4,
 "nbformat_minor": 2
}
