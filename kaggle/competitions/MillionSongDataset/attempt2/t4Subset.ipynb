{
 "cells": [
  {
   "cell_type": "code",
   "execution_count": null,
   "metadata": {},
   "outputs": [],
   "source": [
    "# make a proper subset of the data\n",
    "# collect the first 50k songs that show up most in the dataset\n",
    "# get a list of all the users that have only listened to those songs\n",
    "# get rows for only those users"
   ]
  },
  {
   "cell_type": "code",
   "execution_count": 2,
   "metadata": {},
   "outputs": [],
   "source": [
    "from collections import OrderedDict\n",
    "from collections import defaultdict \n",
    "\n",
    "\n",
    "filePath = \"/home/chowder/Documents/AiLearning/codingChallenges/kaggle/\" + \\\n",
    "    \"competitions/MillionSongDataset/MillionSongSubset/\" + \\\n",
    "    \"train_triplets.txt\"\n",
    "\n",
    "\n",
    "\n",
    "tripletsFile = open(filePath, \"r\")\n",
    "\n",
    "# rowDicts = []\n",
    "songCounts = defaultdict(lambda: 0)\n",
    "\n",
    "triplets = OrderedDict()\n",
    "dictToAdd = {}\n",
    "currUserName = \"\"\n",
    "lineCount = 0\n",
    "for line in tripletsFile.readlines():\n",
    "    lineCount += 1\n",
    "    splitLine = line.split()\n",
    "    # rowDicts.append({\"user\": splitLine[0], \"track\": splitLine[1], \"numListens\": splitLine[2]})\n",
    "\n",
    "    songCounts[splitLine[1]] += int(splitLine[2])\n",
    "\n",
    "    if lineCount == 1:\n",
    "        currUserName = splitLine[0]\n",
    "\n",
    "    \n",
    "    if currUserName != splitLine[0]:\n",
    "        triplets[currUserName] = dictToAdd\n",
    "        dictToAdd = {}\n",
    "        currUserName = splitLine[0]\n",
    "    \n",
    "    dictToAdd[splitLine[1]] = int(splitLine[2])"
   ]
  },
  {
   "cell_type": "code",
   "execution_count": 3,
   "metadata": {},
   "outputs": [
    {
     "data": {
      "text/plain": [
       "384546"
      ]
     },
     "execution_count": 3,
     "metadata": {},
     "output_type": "execute_result"
    }
   ],
   "source": [
    "len(songCounts)"
   ]
  },
  {
   "cell_type": "code",
   "execution_count": 9,
   "metadata": {},
   "outputs": [],
   "source": [
    "orderedSongCounts = sorted(list(songCounts.items()), key=lambda x: x[1], reverse=True) "
   ]
  },
  {
   "cell_type": "code",
   "execution_count": 39,
   "metadata": {},
   "outputs": [],
   "source": [
    "top50kset = set([x[0] for x in orderedSongCounts[0:50_000]])\n",
    "top50kOrderedList = sorted([x[0] for x in orderedSongCounts[0:50_000]])"
   ]
  },
  {
   "cell_type": "code",
   "execution_count": 38,
   "metadata": {},
   "outputs": [],
   "source": [
    "top50kListeners = []\n",
    "for user in triplets:\n",
    "    if all([song in top50kset for song in triplets[user]]):\n",
    "        top50kListeners.append(user)"
   ]
  },
  {
   "cell_type": "code",
   "execution_count": 42,
   "metadata": {},
   "outputs": [
    {
     "data": {
      "text/plain": [
       "215822"
      ]
     },
     "execution_count": 42,
     "metadata": {},
     "output_type": "execute_result"
    }
   ],
   "source": [
    "len(top50kListeners)\n",
    "# top 50k songs have 215882 users + 210k\n",
    "# top 100k songs have 426226 users + 210k\n",
    "# top 150k songs have 590535 users + 170k\n",
    "# top 200k songs have 725925 users + 130k\n",
    "# top 250k songs have 836901 users + 110k\n",
    "# top 300k songs have 925702 users + 90k\n",
    "# top 350k songs have 991164 users + 7k"
   ]
  },
  {
   "cell_type": "code",
   "execution_count": 40,
   "metadata": {},
   "outputs": [],
   "source": [
    "tripletsSubset = {user:triplets[user] for user in top50kListeners}"
   ]
  },
  {
   "cell_type": "code",
   "execution_count": 41,
   "metadata": {},
   "outputs": [
    {
     "name": "stdout",
     "output_type": "stream",
     "text": [
      "1000000\n",
      "2000000\n",
      "3000000\n",
      "4000000\n"
     ]
    }
   ],
   "source": [
    "from bisect import bisect_left\n",
    "\n",
    "# make the data, row, and column lists\n",
    "row = []\n",
    "col = []\n",
    "data = []\n",
    "for userI in range(len(top50kListeners)):\n",
    "    songDictForUser = tripletsSubset[top50kListeners[userI]]\n",
    "    for song in songDictForUser:\n",
    "        row.append(userI)\n",
    "        col.append(bisect_left(top50kOrderedList,song))\n",
    "        data.append(songDictForUser[song])\n",
    "        if len(data) %1_000_000 == 0 :\n",
    "            print(len(data))"
   ]
  },
  {
   "cell_type": "code",
   "execution_count": null,
   "metadata": {},
   "outputs": [],
   "source": [
    "# collect lists of some easy to find song features for those 50k songs"
   ]
  },
  {
   "cell_type": "code",
   "execution_count": null,
   "metadata": {},
   "outputs": [],
   "source": [
    "# split into a train and test set"
   ]
  },
  {
   "cell_type": "code",
   "execution_count": null,
   "metadata": {},
   "outputs": [],
   "source": [
    "# apply the hybrid collaborative and content filtering "
   ]
  }
 ],
 "metadata": {
  "kernelspec": {
   "display_name": "base",
   "language": "python",
   "name": "python3"
  },
  "language_info": {
   "codemirror_mode": {
    "name": "ipython",
    "version": 3
   },
   "file_extension": ".py",
   "mimetype": "text/x-python",
   "name": "python",
   "nbconvert_exporter": "python",
   "pygments_lexer": "ipython3",
   "version": "3.8.3"
  }
 },
 "nbformat": 4,
 "nbformat_minor": 2
}
