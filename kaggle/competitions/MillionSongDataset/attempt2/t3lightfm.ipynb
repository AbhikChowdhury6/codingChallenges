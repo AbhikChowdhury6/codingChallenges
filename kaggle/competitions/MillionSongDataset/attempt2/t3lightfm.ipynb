{
 "cells": [
  {
   "cell_type": "code",
   "execution_count": null,
   "metadata": {},
   "outputs": [],
   "source": [
    "# collaborative filtering\n"
   ]
  },
  {
   "cell_type": "code",
   "execution_count": 1,
   "metadata": {},
   "outputs": [],
   "source": [
    "from collections import OrderedDict\n",
    "\n",
    "filePath = \"/home/chowder/Documents/AiLearning/codingChallenges/kaggle/\" + \\\n",
    "    \"competitions/MillionSongDataset/MillionSongSubset/\" + \\\n",
    "    \"train_triplets.txt\"\n",
    "\n",
    "\n",
    "\n",
    "tripletsFile = open(filePath, \"r\")\n",
    "\n",
    "rowDicts = []\n",
    "triplets = OrderedDict()\n",
    "dictToAdd = {}\n",
    "currUserName = \"\"\n",
    "lineCount = 0\n",
    "for line in tripletsFile.readlines():\n",
    "    lineCount += 1\n",
    "    splitLine = line.split()\n",
    "    # rowDicts.append({\"user\": splitLine[0], \"track\": splitLine[1], \"numListens\": splitLine[2]})\n",
    "\n",
    "    if lineCount == 1:\n",
    "        currUserName = splitLine[0]\n",
    "\n",
    "    \n",
    "    if currUserName != splitLine[0]:\n",
    "        triplets[currUserName] = dictToAdd\n",
    "        dictToAdd = {}\n",
    "        currUserName = splitLine[0]\n",
    "    \n",
    "    dictToAdd[splitLine[1]] = int(splitLine[2])"
   ]
  },
  {
   "cell_type": "code",
   "execution_count": 3,
   "metadata": {},
   "outputs": [
    {
     "name": "stdout",
     "output_type": "stream",
     "text": [
      "1019317\n",
      "384546\n"
     ]
    }
   ],
   "source": [
    "# list of distinct users\n",
    "userList = [user for user in triplets]\n",
    "print(len(userList))\n",
    "\n",
    "\n",
    "\n",
    "\n",
    "# list of distinct songs, sorted for easier search \n",
    "songList = sorted(list(set([song for user in triplets for song in triplets[user]])))\n",
    "print(len(songList))"
   ]
  },
  {
   "cell_type": "code",
   "execution_count": 4,
   "metadata": {},
   "outputs": [
    {
     "name": "stdout",
     "output_type": "stream",
     "text": [
      "3000000\n",
      "6000000\n",
      "9000000\n",
      "12000000\n",
      "15000000\n",
      "18000000\n",
      "21000000\n",
      "24000000\n",
      "27000000\n",
      "30000000\n",
      "33000000\n",
      "36000000\n",
      "39000000\n",
      "42000000\n",
      "45000000\n",
      "48000000\n"
     ]
    }
   ],
   "source": [
    "from bisect import bisect_left\n",
    "\n",
    "# make the data, row, and column lists\n",
    "row = []\n",
    "col = []\n",
    "data = []\n",
    "for userI in range(len(userList)):\n",
    "    songDictForUser = triplets[userList[userI]]\n",
    "    for song in songDictForUser:\n",
    "        row.append(userI)\n",
    "        col.append(bisect_left(songList,song))\n",
    "        data.append(songDictForUser[song])\n",
    "        if len(data) %3_000_000 == 0 :\n",
    "            print(len(data))\n",
    "\n"
   ]
  },
  {
   "cell_type": "code",
   "execution_count": 27,
   "metadata": {},
   "outputs": [
    {
     "name": "stdout",
     "output_type": "stream",
     "text": [
      "48373547\n",
      "48373547\n",
      "48373547\n"
     ]
    }
   ],
   "source": [
    "# using multiprocessing\n",
    "print(len(data)) # in 14 minutes and 45 seconds\n",
    "print(len(row)) \n",
    "print(len(col)) "
   ]
  },
  {
   "cell_type": "code",
   "execution_count": null,
   "metadata": {},
   "outputs": [],
   "source": []
  },
  {
   "cell_type": "code",
   "execution_count": null,
   "metadata": {},
   "outputs": [],
   "source": []
  },
  {
   "cell_type": "code",
   "execution_count": 33,
   "metadata": {},
   "outputs": [],
   "source": [
    "from scipy.sparse import coo_matrix\n",
    "\n",
    "numInteractions = 100_000\n",
    "\n",
    "# make a sparse coo scipy matrix\n",
    "cooMatrix = coo_matrix((data[0:numInteractions], (row[0:numInteractions], col[0:numInteractions])), \n",
    "                        shape=(len(set(userList[0:numInteractions])),len(songList)))\n"
   ]
  },
  {
   "cell_type": "code",
   "execution_count": 34,
   "metadata": {},
   "outputs": [
    {
     "name": "stdout",
     "output_type": "stream",
     "text": [
      "  (0, 6347)\t1\n",
      "  (0, 9365)\t1\n",
      "  (0, 16962)\t2\n",
      "  (0, 19513)\t1\n",
      "  (0, 19536)\t1\n",
      "  (0, 24689)\t1\n",
      "  (0, 27760)\t2\n",
      "  (0, 29262)\t1\n",
      "  (0, 30363)\t1\n",
      "  (0, 30512)\t1\n",
      "  (0, 31127)\t1\n",
      "  (0, 40407)\t1\n",
      "  (0, 48122)\t1\n",
      "  (0, 50216)\t5\n",
      "  (0, 62690)\t1\n",
      "  (0, 64062)\t1\n",
      "  (0, 68251)\t1\n",
      "  (0, 70743)\t1\n",
      "  (0, 72816)\t1\n",
      "  (0, 77813)\t1\n",
      "  (0, 83403)\t1\n",
      "  (0, 84283)\t1\n",
      "  (0, 90798)\t1\n",
      "  (0, 91886)\t1\n",
      "  (0, 95332)\t1\n",
      "  :\t:\n",
      "  (2040, 359206)\t1\n",
      "  (2040, 366894)\t5\n",
      "  (2040, 367161)\t1\n",
      "  (2040, 374782)\t1\n",
      "  (2040, 376642)\t1\n",
      "  (2040, 378736)\t2\n",
      "  (2040, 379818)\t5\n",
      "  (2040, 380605)\t4\n",
      "  (2041, 1916)\t2\n",
      "  (2041, 23720)\t3\n",
      "  (2041, 25597)\t8\n",
      "  (2041, 38857)\t3\n",
      "  (2041, 49024)\t3\n",
      "  (2041, 65692)\t16\n",
      "  (2041, 67917)\t18\n",
      "  (2041, 78067)\t4\n",
      "  (2041, 86227)\t2\n",
      "  (2041, 86316)\t4\n",
      "  (2041, 122075)\t5\n",
      "  (2041, 137435)\t3\n",
      "  (2041, 158094)\t3\n",
      "  (2041, 211477)\t4\n",
      "  (2041, 241533)\t8\n",
      "  (2041, 259090)\t3\n",
      "  (2041, 279876)\t18\n"
     ]
    }
   ],
   "source": [
    "print(cooMatrix)"
   ]
  },
  {
   "cell_type": "code",
   "execution_count": 35,
   "metadata": {},
   "outputs": [
    {
     "name": "stdout",
     "output_type": "stream",
     "text": [
      "Precision: train 0.14, test 0.14.\n",
      "AUC: train 0.99, test 0.99.\n"
     ]
    }
   ],
   "source": [
    "from lightfm import LightFM\n",
    "from lightfm.evaluation import precision_at_k\n",
    "from lightfm.evaluation import auc_score\n",
    "\n",
    "model = LightFM(learning_rate=0.05, loss='warp')\n",
    "model.fit(cooMatrix, epochs=10, num_threads=12)\n",
    "\n",
    "train_precision = precision_at_k(model, cooMatrix, k=10).mean()\n",
    "test_precision = precision_at_k(model, cooMatrix, k=10).mean()\n",
    "\n",
    "train_auc = auc_score(model, cooMatrix).mean()\n",
    "test_auc = auc_score(model, cooMatrix).mean()\n",
    "\n",
    "print('Precision: train %.2f, test %.2f.' % (train_precision, test_precision))\n",
    "print('AUC: train %.2f, test %.2f.' % (train_auc, test_auc))\n",
    "# bpr\n",
    "# 16.5 sec 20 epochs, 10k rows 172 users\n",
    "# 19.1 sec 10 epochs, 10k rows 172 users\n",
    "# 22.5 sec 1 epoch, 10k rows 172 users\n",
    "# 3m 32s 10 epochs, 100k rows, 2041 users\n",
    "# 3m 48s 1 epoch, 100k rows, 2041 users\n",
    "# total is 48M rows, 1M users est. 26 hours for 10 epochs\n",
    "# warp\n",
    "# 16.5 sec 1 epoch, 10k rows 172 users\n",
    "# 16.1 sec 10 epochs, 10k rows 172 users\n",
    "# 16.2 sec 20 epochs, 10k rows 172 users\n",
    "# 3m 10s 1 epoch, 100k rows, 2041 users\n",
    "# 2m 51s 10 epochs, 100k rows, 2041 users\n",
    "# 2m 50s 10 epochs, 100k rows, 2041 users 10 threads\n"
   ]
  },
  {
   "cell_type": "code",
   "execution_count": 36,
   "metadata": {},
   "outputs": [
    {
     "data": {
      "text/plain": [
       "<lightfm.lightfm.LightFM at 0x7f96122d12e0>"
      ]
     },
     "execution_count": 36,
     "metadata": {},
     "output_type": "execute_result"
    }
   ],
   "source": [
    "from lightfm import LightFM\n",
    "from lightfm.evaluation import precision_at_k\n",
    "from lightfm.evaluation import auc_score\n",
    "\n",
    "model = LightFM(learning_rate=0.05, loss='warp')\n",
    "model.fit(cooMatrix, epochs=10, num_threads=12)"
   ]
  },
  {
   "cell_type": "code",
   "execution_count": 39,
   "metadata": {},
   "outputs": [
    {
     "name": "stdout",
     "output_type": "stream",
     "text": [
      "CPU times: user 44.4 s, sys: 172 ms, total: 44.6 s\n",
      "Wall time: 42.7 s\n",
      "CPU times: user 44.5 s, sys: 112 ms, total: 44.6 s\n",
      "Wall time: 42.7 s\n"
     ]
    }
   ],
   "source": [
    "%time train_precision = precision_at_k(model, cooMatrix, k=10, num_threads=12).mean()\n",
    "%time test_precision = precision_at_k(model, cooMatrix, k=10, num_threads=12).mean()\n",
    "# 1m 24s 100k rows, 2041 users\n",
    "# 1m 25s 100k rows, 2041 users 12 threads\n",
    "\n"
   ]
  },
  {
   "cell_type": "code",
   "execution_count": 40,
   "metadata": {},
   "outputs": [
    {
     "name": "stdout",
     "output_type": "stream",
     "text": [
      "CPU times: user 43.9 s, sys: 95.9 ms, total: 44 s\n",
      "Wall time: 42.2 s\n"
     ]
    }
   ],
   "source": [
    "%time train_auc = auc_score(model, cooMatrix, num_threads=12).mean()\n",
    "test_auc = auc_score(model, cooMatrix, num_threads=12).mean()\n",
    "# 1m 24s 100k rows, 2041 users 42 sec each\n",
    "# 1m 24s 100k rows, 2041 users 42 sec each 12 threads\n"
   ]
  },
  {
   "cell_type": "code",
   "execution_count": 41,
   "metadata": {},
   "outputs": [
    {
     "name": "stdout",
     "output_type": "stream",
     "text": [
      "Precision: train 0.14, test 0.14.\n",
      "AUC: train 0.99, test 0.99.\n"
     ]
    }
   ],
   "source": [
    "print('Precision: train %.2f, test %.2f.' % (train_precision, test_precision))\n",
    "print('AUC: train %.2f, test %.2f.' % (train_auc, test_auc))"
   ]
  },
  {
   "cell_type": "code",
   "execution_count": 5,
   "metadata": {},
   "outputs": [
    {
     "name": "stdout",
     "output_type": "stream",
     "text": [
      "1019317\n"
     ]
    }
   ],
   "source": [
    "print(len(set(userList)))"
   ]
  },
  {
   "cell_type": "code",
   "execution_count": 7,
   "metadata": {},
   "outputs": [],
   "source": [
    "# build dataset\n",
    "from lightfm.data import Dataset\n",
    "\n",
    "lfmDataset = Dataset()\n",
    "lfmDataset.fit((x for x in userList),(x for x in songList))\n",
    "\n",
    "dataset.fit((x['User-ID'] for x in get_ratings()),\n",
    "            (x['ISBN'] for x in get_ratings()))"
   ]
  },
  {
   "cell_type": "code",
   "execution_count": 9,
   "metadata": {},
   "outputs": [
    {
     "name": "stdout",
     "output_type": "stream",
     "text": [
      "Num users: 1019317, num_items 384546.\n"
     ]
    }
   ],
   "source": [
    "num_users, num_items = lfmDataset.interactions_shape()\n",
    "print('Num users: {}, num_items {}.'.format(num_users, num_items))"
   ]
  },
  {
   "cell_type": "code",
   "execution_count": null,
   "metadata": {},
   "outputs": [],
   "source": [
    "# if we want to add more we can call fit partial\n",
    "# dataset.fit_partial(items=(x['ISBN'] for x in get_book_features()),\n",
    "#                     item_features=(x['Book-Author'] for x in get_book_features()))"
   ]
  },
  {
   "cell_type": "code",
   "execution_count": null,
   "metadata": {},
   "outputs": [],
   "source": []
  },
  {
   "cell_type": "code",
   "execution_count": null,
   "metadata": {},
   "outputs": [],
   "source": []
  }
 ],
 "metadata": {
  "kernelspec": {
   "display_name": "base",
   "language": "python",
   "name": "python3"
  },
  "language_info": {
   "codemirror_mode": {
    "name": "ipython",
    "version": 3
   },
   "file_extension": ".py",
   "mimetype": "text/x-python",
   "name": "python",
   "nbconvert_exporter": "python",
   "pygments_lexer": "ipython3",
   "version": "3.8.3"
  }
 },
 "nbformat": 4,
 "nbformat_minor": 2
}
