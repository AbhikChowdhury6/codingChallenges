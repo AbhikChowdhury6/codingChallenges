{
 "cells": [
  {
   "cell_type": "code",
   "execution_count": 1,
   "metadata": {},
   "outputs": [],
   "source": [
    "import os\n",
    "import sys\n",
    "import glob\n",
    "import time\n",
    "import datetime\n",
    "import numpy as np\n",
    "try:\n",
    "    import sqlite3\n",
    "except ImportError:\n",
    "    print('you need sqlite3 installed to use this program')\n",
    "    sys.exit(0)"
   ]
  },
  {
   "cell_type": "code",
   "execution_count": 2,
   "metadata": {},
   "outputs": [],
   "source": [
    "def encode_string(s):\n",
    "    \"\"\"\n",
    "    Simple utility function to make sure a string is proper\n",
    "    to be used in a SQLite query\n",
    "    (different than posgtresql, no N to specify unicode)\n",
    "    EXAMPLE:\n",
    "      That's my boy! -> 'That''s my boy!'\n",
    "    \"\"\"\n",
    "    return \"'\"+s.replace(\"'\",\"''\")+\"'\"\n"
   ]
  },
  {
   "cell_type": "code",
   "execution_count": 4,
   "metadata": {},
   "outputs": [],
   "source": [
    "# PATH TO artist_term.db\n",
    "# CHANGE THIS TO YOUR LOCAL CONFIGURATION\n",
    "# IT SHOULD BE IN THE ADDITIONAL FILES\n",
    "# (you can use 'subset_artist_term.db')\n",
    "dbfile = \"/home/chowder/Documents/AiLearning/codingChallenges/kaggle/competitions/MillionSongDataset/MillionSongSubset\"+ \\\n",
    "            \"/AdditionalFiles/subset_artist_term.db\"\n",
    "\n",
    "# connect to the SQLite database\n",
    "conn = sqlite3.connect(dbfile)\n",
    "\n",
    "# from that connection, get a cursor to do queries\n",
    "c = conn.cursor()\n",
    "\n",
    "# SCHEMA OVERVIEW\n",
    "# we got 3 tables\n",
    "# table1: name=artists      #cols=1   (artist_id text)\n",
    "#    One row per artists, no duplicates, usually alphabetical order\n",
    "# table2: name=terms        #cols=1   (term text)\n",
    "#    One row per term, no duplicates, usually alphabetical order\n",
    "# table3: name=artist_term  #cols=2   (artist_id text, term text)\n",
    "#    One row per pair artist_id/term, no duplicate pairs\n",
    "#    Entries in table3 are constrained by table1 and table2,\n",
    "# e.g. an artist_id must exist in table1 before it is used in table3.\n",
    "# NOT ALL ARTISTS HAVE TERMS. They will still all be in table1, but\n",
    "# some artists are not in table3 at all."
   ]
  },
  {
   "cell_type": "code",
   "execution_count": 6,
   "metadata": {},
   "outputs": [
    {
     "name": "stdout",
     "output_type": "stream",
     "text": [
      "*************** GENERAL SQLITE DEMO ***************************\n",
      "* tables contained in that SQLite file/database (there should be 3):\n",
      "[('artist_mbtag',), ('artist_term',), ('artists',), ('mbtags',), ('terms',)]\n",
      "* indices in the database to make reads faster:\n",
      "[('idx_artist_id_mbtag',), ('idx_artist_id_term',), ('idx_mbtag_artist_id',), ('idx_term_artist_id',), ('sqlite_autoindex_artists_1',), ('sqlite_autoindex_mbtags_1',), ('sqlite_autoindex_terms_1',)]\n"
     ]
    }
   ],
   "source": [
    "print('*************** GENERAL SQLITE DEMO ***************************')\n",
    "\n",
    "# list all tables in that dataset\n",
    "# note that sqlite does the actual job when we call fetchall() or fetchone()\n",
    "q = \"SELECT name FROM sqlite_master WHERE type='table' ORDER BY name\"\n",
    "res = c.execute(q)\n",
    "print(\"* tables contained in that SQLite file/database (there should be 3):\")\n",
    "print(res.fetchall())\n",
    "\n",
    "# list all indices\n",
    "q = \"SELECT name FROM sqlite_master WHERE type='index' ORDER BY name\"\n",
    "res = c.execute(q)\n",
    "print('* indices in the database to make reads faster:')\n",
    "print(res.fetchall())"
   ]
  },
  {
   "cell_type": "code",
   "execution_count": 7,
   "metadata": {},
   "outputs": [
    {
     "name": "stdout",
     "output_type": "stream",
     "text": [
      "*************** ARTISTS TABLE DEMO ****************************\n",
      "* list all known artists in the database (display first 3):\n",
      "[('AR009211187B989185',), ('AR00A6H1187FB5402A',), ('AR00LNI1187FB444A5',)]\n",
      "* list artists whose ID starts with ARB (we ask for 2 of them):\n",
      "[('ARB054P1187B9AD32E',), ('ARB06Z71187B99049A',)]\n",
      "* count the number of artists (with or without tags):\n",
      "(3888,)\n"
     ]
    }
   ],
   "source": [
    "print('*************** ARTISTS TABLE DEMO ****************************')\n",
    "\n",
    "# list all artists\n",
    "q = \"SELECT * FROM artists\"\n",
    "res = c.execute(q)\n",
    "print('* list all known artists in the database (display first 3):')\n",
    "print(res.fetchall()[:3])\n",
    "\n",
    "# list all artists that id starts with ARB\n",
    "q = \"SELECT artist_id FROM artists WHERE SUBSTR(artist_id,1,3)='ARB' LIMIT 2\"\n",
    "res = c.execute(q)\n",
    "print('* list artists whose ID starts with ARB (we ask for 2 of them):')\n",
    "print(res.fetchall())\n",
    "\n",
    "# count all artists\n",
    "q = \"SELECT COUNT(artist_id) FROM artists\"\n",
    "res = c.execute(q)\n",
    "print('* count the number of artists (with or without tags):')\n",
    "print(res.fetchone())"
   ]
  },
  {
   "cell_type": "code",
   "execution_count": 8,
   "metadata": {},
   "outputs": [
    {
     "name": "stdout",
     "output_type": "stream",
     "text": [
      "*************** TERMS TABLE DEMO ******************************\n",
      "* list all known terms in the database (display first 3):\n",
      "[('00s',), ('00s country',), ('00s pop',)]\n",
      "* list terms that start with 'indie' (we ask for 3 of them):\n",
      "[('indie',), ('indie acoustic',), ('indie artist',)]\n",
      "* we check if two tags are in the database, (the first one is):\n",
      "rock: ('rock',) , abc123xyz: None\n",
      "* btags work the same as terms, e.g. list all known mbtags (display first 3):\n",
      "[('00s',), ('1 13 165900 150 7672 22647 34612 48720 59280 74602 87545 95495 107182 131087 141522 153710',), ('1 7 186240 183 23558 41608 89158 111733 150833 169883',)]\n"
     ]
    }
   ],
   "source": [
    "print('*************** TERMS TABLE DEMO ******************************')\n",
    "\n",
    "# list all terms (=tags)\n",
    "q = \"SELECT * FROM terms\"\n",
    "res = c.execute(q)\n",
    "print('* list all known terms in the database (display first 3):')\n",
    "print(res.fetchall()[:3])\n",
    "\n",
    "# list all terms that start with 'indie'\n",
    "q = \"SELECT term FROM terms WHERE SUBSTR(term,1,5)='indie' LIMIT 3\"\n",
    "res = c.execute(q)\n",
    "print(\"* list terms that start with 'indie' (we ask for 3 of them):\")\n",
    "print(res.fetchall())\n",
    "\n",
    "# check if a tag is inthe dataset\n",
    "q1 = \"SELECT term FROM terms WHERE term='rock' LIMIT 1\"\n",
    "q2 = \"SELECT term FROM terms WHERE term='abc123xyz'\"\n",
    "res = c.execute(q1)\n",
    "res1_str = str(res.fetchone())\n",
    "res = c.execute(q2)\n",
    "res2_str = str(res.fetchone())\n",
    "print('* we check if two tags are in the database, (the first one is):')\n",
    "print('rock:',res1_str,', abc123xyz:',res2_str)\n",
    "\n",
    "# similar for mtags, list all mbtags\n",
    "q = \"SELECT * FROM mbtags\"\n",
    "res = c.execute(q)\n",
    "print('* btags work the same as terms, e.g. list all known mbtags (display first 3):')\n",
    "print(res.fetchall()[:3])\n",
    "\n",
    "# get one badly encoded, fix it...\n",
    "# is it a problem only when we write to file???\n",
    "# we want to show the usage of t.encode('utf-8')  with t a term"
   ]
  },
  {
   "cell_type": "code",
   "execution_count": 9,
   "metadata": {},
   "outputs": [
    {
     "name": "stdout",
     "output_type": "stream",
     "text": [
      "*************** ARTIST / TERM TABLE DEMO **********************\n",
      "* we get all tags applied to the Beatles (we know their artist ID), we show 4:\n",
      "[('60s',), ('acoustic',), ('am pop',), ('ambient',)]\n",
      "* we count the number of unique tags applied to The Beatles:\n",
      "(30,)\n",
      "* we get artists tagged with 'jazz', we display 2 at random:\n",
      "[('ARPU5CQ1187FB4469F',), ('ARGXNS21187B999665',)]\n",
      "* we count the number of unique artists that got term 'rock':\n",
      "(2346,)\n",
      "* samething with musicbrainz tag 'rock':\n",
      "(166,)\n",
      "* one artist that has term 'rock' but not mbtag 'rock':\n",
      "('AR009211187B989185',)\n",
      "* we show an artist with no terms:\n",
      "('AR2D6TV1187B9B2FBF',)\n"
     ]
    }
   ],
   "source": [
    "print('*************** ARTIST / TERM TABLE DEMO **********************')\n",
    "\n",
    "# note that the Beatles artist ID is: AR6XZ861187FB4CECD\n",
    "\n",
    "# get all tags from the Beatles\n",
    "q = \"SELECT term FROM artist_term WHERE artist_id='AR6XZ861187FB4CECD'\"\n",
    "res = c.execute(q)\n",
    "print(\"* we get all tags applied to the Beatles (we know their artist ID), we show 4:\")\n",
    "print(res.fetchall()[:4])\n",
    "\n",
    "# count number of tags applied to The Beatles\n",
    "q = \"SELECT COUNT(term) FROM artist_term WHERE artist_id='AR6XZ861187FB4CECD'\"\n",
    "res = c.execute(q)\n",
    "print(\"* we count the number of unique tags applied to The Beatles:\")\n",
    "print(res.fetchone())\n",
    "\n",
    "# get artist IDs that ahve been tagged with 'jazz'\n",
    "# note the encode_string function, that mostly doubles the ' sign\n",
    "q = \"SELECT artist_id FROM artist_term WHERE term=\"+encode_string('jazz')\n",
    "q += \" ORDER BY RANDOM() LIMIT 2\"\n",
    "res = c.execute(q)\n",
    "print(\"* we get artists tagged with 'jazz', we display 2 at random:\")\n",
    "print(res.fetchall())\n",
    "\n",
    "# count number of artists tagged with 'rock'\n",
    "q = \"SELECT COUNT(artist_id) FROM artist_term WHERE term=\"+encode_string('rock')\n",
    "res = c.execute(q)\n",
    "print(\"* we count the number of unique artists that got term 'rock':\")\n",
    "print(res.fetchone())\n",
    "\n",
    "# count number of artists mb tagged with 'rock'\n",
    "q = \"SELECT COUNT(artist_id) FROM artist_mbtag WHERE mbtag=\"+encode_string('rock')\n",
    "res = c.execute(q)\n",
    "print(\"* samething with musicbrainz tag 'rock':\")\n",
    "print(res.fetchone())\n",
    "\n",
    "# get artists that have term 'rock' but not mbtag 'rock'\n",
    "q = \"SELECT artist_id FROM artist_term WHERE term=\"+encode_string('rock')\n",
    "q += \" EXCEPT SELECT artist_id FROM artist_mbtag WHERE mbtag=\"+encode_string('rock')\n",
    "q += \" LIMIT 1\"\n",
    "res = c.execute(q)\n",
    "print(\"* one artist that has term 'rock' but not mbtag 'rock':\")\n",
    "print(res.fetchone())\n",
    "\n",
    "# get artists that have no terms\n",
    "# simple with the EXCEPT keyword\n",
    "# other cool keywords: UNION, UNION ALL, INTERSECT\n",
    "q = \"SELECT artist_id FROM artists EXCEPT SELECT artist_id FROM artist_term LIMIT 1\"\n",
    "res = c.execute(q)\n",
    "artist_notag = res.fetchone()\n",
    "print('* we show an artist with no terms:')\n",
    "if artist_notag is None:\n",
    "    # debug, make sure all artists have at least one tag, can be slow\n",
    "    q = \"SELECT * FROM artists\"\n",
    "    res = c.execute(q)\n",
    "    allartists = [x[0] for x in res.fetchall()]\n",
    "    for art in allartists:\n",
    "        q = \"SELECT COUNT(term) FROM artist_term WHERE artist_id='\"+art+\"'\"\n",
    "        res = c.execute(q)\n",
    "        assert res.fetchone()[0] > 0\n",
    "    print('(found no artist with no terms, we double-checked)')\n",
    "else:\n",
    "    print(artist_notag)\n"
   ]
  },
  {
   "cell_type": "code",
   "execution_count": 10,
   "metadata": {},
   "outputs": [],
   "source": [
    "# DONE\n",
    "# close the cursor and the connection\n",
    "# (if for some reason you added stuff to the db or alter\n",
    "#  a table, you need to also do a conn.commit())\n",
    "c.close()\n",
    "conn.close()\n"
   ]
  },
  {
   "cell_type": "code",
   "execution_count": null,
   "metadata": {},
   "outputs": [],
   "source": []
  },
  {
   "cell_type": "code",
   "execution_count": null,
   "metadata": {},
   "outputs": [],
   "source": []
  }
 ],
 "metadata": {
  "kernelspec": {
   "display_name": "base",
   "language": "python",
   "name": "python3"
  },
  "language_info": {
   "codemirror_mode": {
    "name": "ipython",
    "version": 3
   },
   "file_extension": ".py",
   "mimetype": "text/x-python",
   "name": "python",
   "nbconvert_exporter": "python",
   "pygments_lexer": "ipython3",
   "version": "3.8.3"
  }
 },
 "nbformat": 4,
 "nbformat_minor": 2
}
