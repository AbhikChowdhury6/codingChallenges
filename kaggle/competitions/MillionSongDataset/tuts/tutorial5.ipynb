{
 "cells": [
  {
   "cell_type": "code",
   "execution_count": 1,
   "metadata": {},
   "outputs": [],
   "source": [
    "import os\n",
    "import sys\n",
    "import glob\n",
    "import time\n",
    "import datetime\n",
    "import numpy as np\n",
    "try:\n",
    "    import sqlite3\n",
    "except ImportError:\n",
    "    print('you need sqlite3 installed to use this program')\n",
    "    sys.exit(0)\n",
    "\n",
    "\n",
    "def encode_string(s):\n",
    "    \"\"\"\n",
    "    Simple utility function to make sure a string is proper\n",
    "    to be used in a SQLite query\n",
    "    (different than posgtresql, no N to specify unicode)\n",
    "    EXAMPLE:\n",
    "      That's my boy! -> 'That''s my boy!'\n",
    "    \"\"\"\n",
    "    return \"'\"+s.replace(\"'\",\"''\")+\"'\""
   ]
  },
  {
   "cell_type": "code",
   "execution_count": 2,
   "metadata": {},
   "outputs": [],
   "source": [
    "# PATH TO artist_similarity.db\n",
    "# CHANGE THIS TO YOUR LOCAL CONFIGURATION\n",
    "# IT SHOULD BE IN THE ADDITIONAL FILES\n",
    "# (you can use 'subset_artist_similarity.db')\n",
    "dbfile = \"/home/chowder/Documents/AiLearning/codingChallenges/kaggle/competitions/MillionSongDataset/MillionSongSubset\"+ \\\n",
    "    \"/AdditionalFiles/subset_artist_similarity.db\"\n",
    "\n",
    "# connect to the SQLite database\n",
    "conn = sqlite3.connect(dbfile)\n",
    "\n",
    "# from that connection, get a cursor to do queries\n",
    "# NOTE: we could query directly from the connection object\n",
    "c = conn.cursor()\n"
   ]
  },
  {
   "cell_type": "code",
   "execution_count": 4,
   "metadata": {},
   "outputs": [
    {
     "name": "stdout",
     "output_type": "stream",
     "text": [
      "*************** GENERAL SQLITE DEMO ***************************\n",
      "* tables contained in that SQLite file/database (there should be 3):\n",
      "[('artists',), ('similarity',)]\n",
      "* indices in the database to make reads faster:\n",
      "[('idx_sim_target',), ('idx_target_sim',), ('sqlite_autoindex_artists_1',)]\n"
     ]
    }
   ],
   "source": [
    "print('*************** GENERAL SQLITE DEMO ***************************')\n",
    "\n",
    "# list all tables in that dataset\n",
    "# note that sqlite does the actual job when we call fetchall() or fetchone()\n",
    "q = \"SELECT name FROM sqlite_master WHERE type='table' ORDER BY name\"\n",
    "res = c.execute(q)\n",
    "print(\"* tables contained in that SQLite file/database (there should be 3):\")\n",
    "print(res.fetchall())\n",
    "\n",
    "# list all indices\n",
    "q = \"SELECT name FROM sqlite_master WHERE type='index' ORDER BY name\"\n",
    "res = c.execute(q)\n",
    "print('* indices in the database to make reads faster:')\n",
    "print(res.fetchall())"
   ]
  },
  {
   "cell_type": "code",
   "execution_count": 5,
   "metadata": {},
   "outputs": [
    {
     "name": "stdout",
     "output_type": "stream",
     "text": [
      "*************** ARTISTS TABLE DEMO ****************************\n",
      "* number of artist Echo Nest ID in 'artists' table:\n",
      "3888\n"
     ]
    }
   ],
   "source": [
    "print('*************** ARTISTS TABLE DEMO ****************************')\n",
    "\n",
    "# list all artist ID\n",
    "q = \"SELECT artist_id FROM artists\"\n",
    "res = c.execute(q)\n",
    "print(\"* number of artist Echo Nest ID in 'artists' table:\")\n",
    "print(len(res.fetchall()))"
   ]
  },
  {
   "cell_type": "code",
   "execution_count": 6,
   "metadata": {},
   "outputs": [
    {
     "name": "stdout",
     "output_type": "stream",
     "text": [
      "*************** ARTIST SIMILARITY DEMO ************************\n",
      "* one random similarity relationship (A->B means B similar to A):\n",
      "AR009211187B989185 -> ARHINI31187B995C1D\n",
      "* artist AR009211187B989185 has that many similar artists in the dataset:\n",
      "34\n",
      "* artist ARHINI31187B995C1D is similar to that many artists in the dataset:\n",
      "19\n"
     ]
    }
   ],
   "source": [
    "print('*************** ARTIST SIMILARITY DEMO ************************')\n",
    "\n",
    "# get a random similarity relationship\n",
    "q = \"SELECT target,similar FROM similarity LIMIT 1\"\n",
    "res = c.execute(q)\n",
    "a,s = res.fetchone()\n",
    "print('* one random similarity relationship (A->B means B similar to A):')\n",
    "print(a,'->',s)\n",
    "\n",
    "# count number of similar artist to a in previous call\n",
    "q = \"SELECT Count(similar) FROM similarity WHERE target=\"+encode_string(a)\n",
    "res = c.execute(q)\n",
    "print('* artist',a,'has that many similar artists in the dataset:')\n",
    "print(res.fetchone()[0])\n",
    "\n",
    "# count number of artist s (c queries up) is similar to\n",
    "q = \"SELECT Count(target) FROM similarity WHERE similar=\"+encode_string(s)\n",
    "res = c.execute(q)\n",
    "print('* artist',s,'is similar to that many artists in the dataset:')\n",
    "print(res.fetchone()[0])"
   ]
  },
  {
   "cell_type": "code",
   "execution_count": 7,
   "metadata": {},
   "outputs": [],
   "source": [
    "# DONE\n",
    "# close cursor and connection\n",
    "# (if for some reason you added stuff to the db or alter\n",
    "#  a table, you need to also do a conn.commit())\n",
    "c.close()\n",
    "conn.close()"
   ]
  },
  {
   "cell_type": "code",
   "execution_count": null,
   "metadata": {},
   "outputs": [],
   "source": []
  },
  {
   "cell_type": "code",
   "execution_count": null,
   "metadata": {},
   "outputs": [],
   "source": []
  }
 ],
 "metadata": {
  "kernelspec": {
   "display_name": "base",
   "language": "python",
   "name": "python3"
  },
  "language_info": {
   "codemirror_mode": {
    "name": "ipython",
    "version": 3
   },
   "file_extension": ".py",
   "mimetype": "text/x-python",
   "name": "python",
   "nbconvert_exporter": "python",
   "pygments_lexer": "ipython3",
   "version": "3.8.3"
  }
 },
 "nbformat": 4,
 "nbformat_minor": 2
}
