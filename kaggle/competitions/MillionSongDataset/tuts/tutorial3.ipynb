{
 "cells": [
  {
   "cell_type": "code",
   "execution_count": 2,
   "metadata": {},
   "outputs": [],
   "source": [
    "import os\n",
    "import sys\n",
    "import glob\n",
    "import time\n",
    "import datetime\n",
    "import numpy as np\n",
    "try:\n",
    "    import sqlite3\n",
    "except ImportError:\n",
    "    print('you need sqlite3 installed to use this program')\n",
    "    sys.exit(0)"
   ]
  },
  {
   "cell_type": "code",
   "execution_count": 3,
   "metadata": {},
   "outputs": [],
   "source": [
    "def encode_string(s):\n",
    "    \"\"\"\n",
    "    Simple utility function to make sure a string is proper\n",
    "    to be used in a SQLite query\n",
    "    (different than posgtresql, no N to specify unicode)\n",
    "    EXAMPLE:\n",
    "      That's my boy! -> 'That''s my boy!'\n",
    "    \"\"\"\n",
    "    return \"'\"+s.replace(\"'\",\"''\")+\"'\""
   ]
  },
  {
   "cell_type": "code",
   "execution_count": 6,
   "metadata": {},
   "outputs": [],
   "source": [
    "# PATH TO track_metadat.db\n",
    "# CHANGE THIS TO YOUR LOCAL CONFIGURATION\n",
    "# IT SHOULD BE IN THE ADDITIONAL FILES\n",
    "# (you can use 'subset_track_metadata.db')\n",
    "dbfile = '/home/chowder/Documents/AiLearning/codingChallenges/kaggle/competitions/MillionSongDataset/MillionSongSubset/AdditionalFiles/subset_track_metadata.db'\n",
    "\n",
    "# connect to the SQLite database\n",
    "conn = sqlite3.connect(dbfile)\n",
    "\n",
    "# from that connection, get a cursor to do queries\n",
    "c = conn.cursor()\n",
    "\n",
    "# so there is no confusion, the table name is 'songs'\n",
    "TABLENAME = 'songs'"
   ]
  },
  {
   "cell_type": "code",
   "execution_count": 7,
   "metadata": {},
   "outputs": [
    {
     "name": "stdout",
     "output_type": "stream",
     "text": [
      "* tables contained in that SQLite file/database (should be only 'songs'):\n",
      "[('songs',)]\n",
      "* get info on columns names (original table creation command):\n",
      "CREATE TABLE songs (track_id text PRIMARY KEY, title text, song_id text, release text, artist_id text, artist_mbid text, artist_name text, duration real, artist_familiarity real, artist_hotttnesss real, year int)\n",
      "* one of the index we added to the table to make things faster:\n",
      "('idx_artist_id',)\n",
      "* get the primary key (row id) of one entry where the artist is The Beatles:\n",
      "(1040,)\n",
      "* get all we have about one track from The Beatles:\n",
      "('TRAHSSO128EF347345', 'Derek Taylor - Introduction', 'SORTPSA12A67ADBFE2', 'Here There And Everywhere', 'AR6XZ861187FB4CECD', 'b10bbbfc-cf9e-42e0-be17-e2c3e1d2600d', 'The Beatles', 53.78567, 0.840409662154, 0.840462688027, 0)\n"
     ]
    }
   ],
   "source": [
    "# list all tables in that dataset\n",
    "# note that sqlite does the actual job when we call fetchall() or fetchone()\n",
    "q = \"SELECT name FROM sqlite_master WHERE type='table' ORDER BY name\"\n",
    "res = c.execute(q)\n",
    "print(\"* tables contained in that SQLite file/database (should be only 'songs'):\")\n",
    "print(res.fetchall())\n",
    "\n",
    "# list all columns names from table 'songs'\n",
    "q = \"SELECT sql FROM sqlite_master WHERE tbl_name = 'songs' AND type = 'table'\"\n",
    "res = c.execute(q)\n",
    "print('* get info on columns names (original table creation command):')\n",
    "print(res.fetchall()[0][0])\n",
    "\n",
    "# list all indices\n",
    "q = \"SELECT name FROM sqlite_master WHERE type='index' AND tbl_name='songs' ORDER BY name\"\n",
    "res = c.execute(q)\n",
    "print('* one of the index we added to the table to make things faster:')\n",
    "print(res.fetchone())\n",
    "\n",
    "# find the PRIMARY KEY of a query\n",
    "# by default it's called ROWID, it would have been redefined if our primary key\n",
    "# was of type INTEGER\n",
    "q = \"SELECT ROWID FROM songs WHERE artist_name='The Beatles'\"\n",
    "res = c.execute(q)\n",
    "print('* get the primary key (row id) of one entry where the artist is The Beatles:')\n",
    "print(res.fetchone())\n",
    "    \n",
    "# find an entry with The Beatles as artist_name\n",
    "# returns all info (the full table row)\n",
    "q = \"SELECT * FROM songs WHERE artist_name='The Beatles' LIMIT 1\"\n",
    "res = c.execute(q)\n",
    "print('* get all we have about one track from The Beatles:')\n",
    "print(res.fetchone())\n"
   ]
  },
  {
   "cell_type": "code",
   "execution_count": 8,
   "metadata": {},
   "outputs": [
    {
     "name": "stdout",
     "output_type": "stream",
     "text": [
      "*************** DEMOS AROUND ARTIST_ID ************************\n",
      "* found 3888 unique artist IDs, response looks like:\n",
      "[('AR009211187B989185',), ('AR00A6H1187FB5402A',), ('AR00LNI1187FB444A5',)]\n",
      "* one unique artist with some track (chosen at random) associated with it:\n",
      "('AR009211187B989185', 'TRAWSCW12903CD6C7E')\n",
      "* one artist that has only one track in the dataset:\n",
      "('ARWQQYJ1187B9ADC4C', 'TRACWSJ128F42739DE')\n",
      "* two random unique artists with no musicbrainz ID:\n",
      "[('ARHLYXD11F50C4B49E', ''), ('ARGUMVS1241B9CBE9B', '')]\n"
     ]
    }
   ],
   "source": [
    "print('*************** DEMOS AROUND ARTIST_ID ************************')\n",
    "\n",
    "# query for all the artists Echo Nest ID\n",
    "# the column name is 'artist_id'\n",
    "# DISTINCT makes sure you get each ID returned only once\n",
    "q = \"SELECT DISTINCT artist_id FROM \" + TABLENAME\n",
    "res = c.execute(q)\n",
    "artists = res.fetchall() # does the actual job of searching the db\n",
    "print('* found',len(artists),'unique artist IDs, response looks like:')\n",
    "print(artists[:3])\n",
    "\n",
    "# more cumbersome, get unique artist ID but with one track ID for each.\n",
    "# very usefull, it gives you a HDF5 file to query if you want more\n",
    "# information about this artist\n",
    "q = \"SELECT artist_id,track_id FROM songs GROUP BY artist_id\"\n",
    "res = c.execute(q)\n",
    "artist_track_pair = res.fetchone()\n",
    "print('* one unique artist with some track (chosen at random) associated with it:')\n",
    "print(artist_track_pair)\n",
    "\n",
    "# get artists having only one track in the database\n",
    "q = \"SELECT artist_id,track_id FROM songs GROUP BY artist_id HAVING ( COUNT(artist_id) = 1 )\"\n",
    "q += \" ORDER BY RANDOM()\"\n",
    "res = c.execute(q)\n",
    "artist_track_pair = res.fetchone()\n",
    "print('* one artist that has only one track in the dataset:')\n",
    "print(artist_track_pair)\n",
    "\n",
    "# get artists with no musicbrainz ID\n",
    "# of course, we want only once each artist\n",
    "# for demo purpose, we ask for only two at RANDOM\n",
    "q = \"SELECT artist_id,artist_mbid FROM songs WHERE artist_mbid=''\"\n",
    "q += \" GROUP BY artist_id ORDER BY RANDOM() LIMIT 2\"\n",
    "res = c.execute(q)\n",
    "print('* two random unique artists with no musicbrainz ID:')\n",
    "print(res.fetchall())\n"
   ]
  },
  {
   "cell_type": "code",
   "execution_count": 9,
   "metadata": {},
   "outputs": [
    {
     "name": "stdout",
     "output_type": "stream",
     "text": [
      "*************** DEMOS AROUND NAMES ****************************\n",
      "* two track id from 'The Beatles', found by looking up the artist by name:\n",
      "[('TRAHSSO128EF347345',)]\n",
      "* one unique artist/release pair where album starts with capital T:\n",
      "('23rd Turnoff', 'The Psychedelic Scene')\n"
     ]
    }
   ],
   "source": [
    "print('*************** DEMOS AROUND NAMES ****************************')\n",
    "\n",
    "# get all tracks by artist The Beatles\n",
    "# artist name must be exact!\n",
    "# the encode_string function simply deals with ' (by doubling them)\n",
    "# and add ' after and before the string.\n",
    "q = \"SELECT track_id FROM songs WHERE artist_name=\"\n",
    "q += encode_string('The Beatles')\n",
    "res = c.execute(q)\n",
    "print(\"* two track id from 'The Beatles', found by looking up the artist by name:\")\n",
    "print(res.fetchall()[:2])\n",
    "\n",
    "# we find all release starting by letter 'T'\n",
    "# T != t, we're just looking at albums starting with capital T\n",
    "# here we use DISTINCT instead of GROUP BY artist_id\n",
    "# since its fine that we find twice the same artist, as long as it is not\n",
    "# the same (artist,release) pair\n",
    "q = \"SELECT DISTINCT artist_name,release FROM songs WHERE SUBSTR(release,1,1)='T'\"\n",
    "res = c.execute(q)\n",
    "print('* one unique artist/release pair where album starts with capital T:')\n",
    "print(res.fetchone())\n"
   ]
  },
  {
   "cell_type": "code",
   "execution_count": 10,
   "metadata": {},
   "outputs": [
    {
     "name": "stdout",
     "output_type": "stream",
     "text": [
      "*************** DEMOS AROUND FLOATS ***************************\n",
      "* one artist having familiaryt >0.8:\n",
      "('3 Doors Down', 0.840432466617)\n",
      "* get the artist with the highest familiarity that has no computed hotttnesss:\n",
      "None\n"
     ]
    }
   ],
   "source": [
    "print('*************** DEMOS AROUND FLOATS ***************************')\n",
    "\n",
    "# get all artists whose artist familiarity is > .8\n",
    "q = \"SELECT DISTINCT artist_name, artist_familiarity FROM songs WHERE artist_familiarity>.8\"\n",
    "res = c.execute(q)\n",
    "print('* one artist having familiaryt >0.8:')\n",
    "print(res.fetchone())\n",
    "\n",
    "# get one artist with the highest artist_familiarity but no artist_hotttnesss\n",
    "# notice the alias af and ah, makes things more readable\n",
    "q = \"SELECT DISTINCT artist_name, artist_familiarity as af, artist_hotttnesss as ah\"\n",
    "q += \" FROM songs WHERE ah<0 ORDER BY af\"\n",
    "res = c.execute(q)\n",
    "print('* get the artist with the highest familiarity that has no computed hotttnesss:')\n",
    "print(res.fetchone())\n",
    "\n",
    "# close the cursor and the connection\n",
    "# (if for some reason you added stuff to the db or alter\n",
    "#  a table, you need to also do a conn.commit())\n",
    "c.close()\n",
    "conn.close()\n",
    "\n"
   ]
  },
  {
   "cell_type": "code",
   "execution_count": null,
   "metadata": {},
   "outputs": [],
   "source": []
  }
 ],
 "metadata": {
  "kernelspec": {
   "display_name": "base",
   "language": "python",
   "name": "python3"
  },
  "language_info": {
   "codemirror_mode": {
    "name": "ipython",
    "version": 3
   },
   "file_extension": ".py",
   "mimetype": "text/x-python",
   "name": "python",
   "nbconvert_exporter": "python",
   "pygments_lexer": "ipython3",
   "version": "3.8.3"
  }
 },
 "nbformat": 4,
 "nbformat_minor": 2
}
