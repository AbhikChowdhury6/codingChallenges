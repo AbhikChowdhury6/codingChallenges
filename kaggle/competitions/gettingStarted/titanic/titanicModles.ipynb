{
 "cells": [
  {
   "cell_type": "code",
   "execution_count": null,
   "metadata": {},
   "outputs": [],
   "source": [
    "# load in the data\n",
    "\n",
    "# make a function to generate a variety of scoring metrics\n",
    "\n",
    "# make a train and test set\n",
    "\n",
    "# make some models and and see how thry do\n",
    "\n",
    "# do k fold corss validation on the dataset\n",
    "\n",
    "# generate a submission"
   ]
  },
  {
   "cell_type": "code",
   "execution_count": 2,
   "metadata": {},
   "outputs": [],
   "source": [
    "file_path = \"/home/chowder/Documents/AiLearning\" + \\\n",
    "            \"/codingChallenges/kaggle/competitions/gettingStarted\" + \\\n",
    "            \"/titanic/data/titanic/train.csv\""
   ]
  },
  {
   "cell_type": "code",
   "execution_count": 3,
   "metadata": {},
   "outputs": [
    {
     "name": "stderr",
     "output_type": "stream",
     "text": [
      "/home/chowder/anaconda3/lib/python3.8/site-packages/pandas/core/computation/expressions.py:20: UserWarning: Pandas requires version '2.7.3' or newer of 'numexpr' (version '2.7.1' currently installed).\n",
      "  from pandas.core.computation.check import NUMEXPR_INSTALLED\n"
     ]
    }
   ],
   "source": [
    "import pandas as pd\n",
    "train_df = pd.read_csv(file_path)"
   ]
  },
  {
   "cell_type": "code",
   "execution_count": 5,
   "metadata": {},
   "outputs": [
    {
     "name": "stdout",
     "output_type": "stream",
     "text": [
      "Pclass        0\n",
      "Sex           0\n",
      "Age         177\n",
      "SibSp         0\n",
      "Parch         0\n",
      "Fare          0\n",
      "Embarked      2\n",
      "dtype: int64\n",
      "Pclass      0\n",
      "Sex         0\n",
      "Age         0\n",
      "SibSp       0\n",
      "Parch       0\n",
      "Fare        0\n",
      "Embarked    0\n",
      "dtype: int64\n"
     ]
    }
   ],
   "source": [
    "features = ['Survived', 'Pclass', 'Sex', 'Age', 'SibSp',\n",
    "       'Parch', 'Fare', 'Embarked' ]\n",
    "\n",
    "# turn Sex and Embarked into numbers\n",
    "from sklearn.preprocessing import OrdinalEncoder\n",
    "\n",
    "X_raw = train_df[features].copy()\n",
    "y = X_raw[\"Survived\"]\n",
    "X_raw.drop(['Survived'], axis=1, inplace=True)\n",
    "ordinal_encoder = OrdinalEncoder()\n",
    "\n",
    "X_raw[features[1:]] = ordinal_encoder.fit_transform(X_raw)\n",
    "print(X_raw.isnull().sum())\n",
    "\n",
    "# it looks like we have a bunch of missing ages, lets impute them\n",
    "from sklearn.experimental import enable_iterative_imputer\n",
    "from sklearn.impute import IterativeImputer\n",
    "imp = IterativeImputer(max_iter=10, random_state=0)\n",
    "\n",
    "X = pd.DataFrame(imp.fit_transform(X_raw))\n",
    "X.columns = X_raw.columns\n",
    "print(X.isnull().sum())"
   ]
  },
  {
   "cell_type": "code",
   "execution_count": null,
   "metadata": {},
   "outputs": [],
   "source": []
  },
  {
   "cell_type": "code",
   "execution_count": null,
   "metadata": {},
   "outputs": [],
   "source": []
  },
  {
   "cell_type": "code",
   "execution_count": null,
   "metadata": {},
   "outputs": [],
   "source": []
  }
 ],
 "metadata": {
  "kernelspec": {
   "display_name": "base",
   "language": "python",
   "name": "python3"
  },
  "language_info": {
   "codemirror_mode": {
    "name": "ipython",
    "version": 3
   },
   "file_extension": ".py",
   "mimetype": "text/x-python",
   "name": "python",
   "nbconvert_exporter": "python",
   "pygments_lexer": "ipython3",
   "version": "3.8.3"
  }
 },
 "nbformat": 4,
 "nbformat_minor": 2
}
